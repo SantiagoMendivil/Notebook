{
 "cells": [
  {
   "cell_type": "markdown",
   "id": "98a3e376",
   "metadata": {},
   "source": [
    "# Working with rows and columns"
   ]
  },
  {
   "cell_type": "markdown",
   "id": "a818c9f5",
   "metadata": {},
   "source": [
    "An excel file is called a **workbook**. The worksheets, or sheets, are all part of the same file. A worksheet can hold a large amount of data. One worksheet can extend to over sixteen columns and over a million rows. \n",
    "\n",
    "## Resizing columns\n",
    "To change the width of a column, it can be done from the following actions: \n",
    "* Placing the mouse pointr on the vertical line. \n",
    "* Double click on the vertical or horizontal line to resize a column or row to fit its contents automatically. \n",
    "\n",
    "## Inserting and deleting columns\n",
    "To insert a new column, select the column to the right of where you want the new column to appear. Another way is by clicking on the **home** tab and then in the **cells** group and finally in the **insert** group. Another way is by right clicking on the row that you want the new column to be placed beside, and then click on insert. \n",
    "\n",
    "Delete columns works the same but with the options of deletion. \n",
    "\n",
    "## Hide and Unhide columns\n",
    "These functionalities help by not showing the elements that are not necessary to show in the worksheet. "
   ]
  }
 ],
 "metadata": {
  "language_info": {
   "name": "python"
  }
 },
 "nbformat": 4,
 "nbformat_minor": 5
}
