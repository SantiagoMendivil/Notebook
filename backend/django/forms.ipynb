{
 "cells": [
  {
   "cell_type": "markdown",
   "id": "3c477778",
   "metadata": {},
   "source": [
    "# Forms in Django\n",
    "## Form class\n",
    "We can use the Django Forms included by default with the Form class. We call the Form class as a parent class and then each of the fields must match the datatype of the element that you're trying to post to the backend. "
   ]
  },
  {
   "cell_type": "code",
   "execution_count": null,
   "id": "095b52dc",
   "metadata": {},
   "outputs": [],
   "source": [
    "from django import forms\n",
    "\n",
    "\n",
    "class NameForm(forms.Form):\n",
    "    name = forms.CharField(\n",
    "        label='Name',\n",
    "        max_length=100,\n",
    "        widget=forms.TextInput(attrs={'placeholder': 'Enter your name'})\n",
    "    )\n",
    "    email = forms.EmailField(\n",
    "        label='Email',\n",
    "        max_length=100,\n",
    "        widget=forms.EmailInput(attrs={'placeholder': 'Enter your email'})\n",
    "    )"
   ]
  },
  {
   "cell_type": "markdown",
   "id": "0afd13e3",
   "metadata": {},
   "source": [
    "Once the form is created, in order to save time rendering HTML, we can use the form tag to display all the elements in the form."
   ]
  },
  {
   "cell_type": "code",
   "execution_count": null,
   "id": "62bece74",
   "metadata": {
    "vscode": {
     "languageId": "html"
    }
   },
   "outputs": [],
   "source": [
    "<form action=\"/url/\" method=\"POST\">\n",
    "    {{ form }}\n",
    "    <input type=\"submit\" value=\"Submit\">\n",
    "</form>"
   ]
  }
 ],
 "metadata": {
  "language_info": {
   "name": "python"
  }
 },
 "nbformat": 4,
 "nbformat_minor": 5
}
