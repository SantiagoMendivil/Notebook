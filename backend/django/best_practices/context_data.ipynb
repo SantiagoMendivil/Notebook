{
 "cells": [
  {
   "cell_type": "markdown",
   "id": "05452d91",
   "metadata": {},
   "source": [
    "# Get context data on models\n",
    "Getting this context data allows us to add extra context data to our template. It modifies what data is available in our template and can combine multiple sources of data"
   ]
  },
  {
   "cell_type": "code",
   "execution_count": null,
   "id": "2ce0f1ed",
   "metadata": {},
   "outputs": [],
   "source": [
    "def get_context_data(**kwargs):\n",
    "    context = super().get_context_data(**kwargs)\n",
    "    \n",
    "    context.update({\n",
    "        'key1': value1,\n",
    "        \"key2\": value2\n",
    "    })\n",
    "    \n",
    "    context['single_item'] = value\n",
    "    return context"
   ]
  },
  {
   "cell_type": "markdown",
   "id": "468961d7",
   "metadata": {},
   "source": [
    "## Common use cases\n",
    "1. Adding form instances \n",
    "2. Including user permissions\n",
    "3. Adding counts and aggregations\n",
    "4. Including related data\n",
    "5. Adding configuration settings\n",
    "\n",
    "Example:"
   ]
  },
  {
   "cell_type": "code",
   "execution_count": null,
   "id": "73810029",
   "metadata": {},
   "outputs": [],
   "source": [
    "from django.contrib.auth.mixins import LoginRequiredMixin, UserPassesTestMixin\n",
    "from django.views.generic import ListView\n",
    "from django.utils import timezone\n",
    "from django.db.models import Count\n",
    "from datetime import timedelta\n",
    "\n",
    "class Requests(UserPassesTestMixin, LoginRequiredMixin, ListView):\n",
    "    model = MyModel\n",
    "    template_name = \"requests.html\"\n",
    "    context_object_name = \"m101_requests\"\n",
    "    ordering = ['-request_date']\n",
    "    paginate_by = 10\n",
    "    \n",
    "    def get_context_data(self, **kwargs):\n",
    "        context = super().get_context_data(**kwargs)\n",
    "        today = timezone.now().date()\n",
    "        last_week = today - timedelta(days=6)\n",
    "        context.update({\n",
    "            'total_requests': MyModel.objects.filter(\n",
    "                request_date__date=today\n",
    "            ).count(),\n",
    "            \n",
    "            'pending_requests': MyModel.objects.filter(\n",
    "                request_status=MyModel.RequestStatus.PENDING\n",
    "            ).count(),\n",
    "            \n",
    "            'completed_requests': MyModel.objects.filter(\n",
    "                request_status=MyModel.RequestStatus.COMPLETED\n",
    "            ),\n",
    "            \n",
    "            'user_groups': [group.name for group in self.request.user.groups.all()],\n",
    "            \n",
    "            'status_summary': MyModel.objects.values('request_status').annotate(\n",
    "                total=Count('id')\n",
    "            ),\n",
    "            \n",
    "            'title': 'Requests',\n",
    "            'current_user': self.request.user,\n",
    "        })\n",
    "        return context"
   ]
  }
 ],
 "metadata": {
  "language_info": {
   "name": "python"
  }
 },
 "nbformat": 4,
 "nbformat_minor": 5
}
