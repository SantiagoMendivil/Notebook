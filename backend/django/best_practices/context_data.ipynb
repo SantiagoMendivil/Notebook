{
 "cells": [
  {
   "cell_type": "markdown",
   "id": "05452d91",
   "metadata": {},
   "source": [
    "# Get context data on models\n",
    "Getting this context data allows us to add extra context data to our template. It modifies what data is available in our template and can combine multiple sources of data"
   ]
  },
  {
   "cell_type": "code",
   "execution_count": null,
   "id": "2ce0f1ed",
   "metadata": {},
   "outputs": [],
   "source": [
    "def get_context_data(**kwargs):\n",
    "    context = super().get_context_data(**kwargs)\n",
    "    \n",
    "    context.update({\n",
    "        'key1': value1,\n",
    "        \"key2\": value2\n",
    "    })\n",
    "    \n",
    "    context['single_item'] = value\n",
    "    return context"
   ]
  },
  {
   "cell_type": "markdown",
   "id": "468961d7",
   "metadata": {},
   "source": [
    "## Common use cases\n",
    "1. Adding form instances \n",
    "2. Including user permissions\n",
    "3. Adding counts and aggregations\n",
    "4. Including related data\n",
    "5. Adding configuration settings\n",
    "\n",
    "Example:"
   ]
  },
  {
   "cell_type": "code",
   "execution_count": null,
   "id": "73810029",
   "metadata": {},
   "outputs": [],
   "source": [
    "from django.contrib.auth.mixins import LoginRequiredMixin, UserPassesTestMixin\n",
    "from django.views.generic import ListView\n",
    "from django.utils import timezone\n",
    "from django.db.models import Count\n",
    "from datetime import timedelta\n",
    "\n",
    "class Requests(UserPassesTestMixin, LoginRequiredMixin, ListView):\n",
    "    model = MyModel\n",
    "    template_name = \"requests.html\"\n",
    "    context_object_name = \"m101_requests\"\n",
    "    ordering = ['-request_date']\n",
    "    paginate_by = 10\n",
    "    \n",
    "    def get_context_data(self, **kwargs):\n",
    "        context = super().get_context_data(**kwargs)\n",
    "        today = timezone.now().date()\n",
    "        context.update({\n",
    "            'total_requests': MyModel.objects.filter(\n",
    "                request_date__date=today\n",
    "            ).count(),\n",
    "            \n",
    "            'pending_requests': MyModel.objects.filter(\n",
    "                request_status=MyModel.RequestStatus.PENDING\n",
    "            ).count(),\n",
    "            \n",
    "            'completed_requests': MyModel.objects.filter(\n",
    "                request_status=MyModel.RequestStatus.COMPLETED\n",
    "            ),\n",
    "            \n",
    "            'user_groups': [group.name for group in self.request.user.groups.all()],\n",
    "            \n",
    "            'status_summary': MyModel.objects.values('request_status').annotate(\n",
    "                total=Count('id')\n",
    "            ),\n",
    "            \n",
    "            'title': 'Requests',\n",
    "            'current_user': self.request.user,\n",
    "        })\n",
    "        return context"
   ]
  },
  {
   "cell_type": "markdown",
   "id": "6edfc4b5",
   "metadata": {},
   "source": [
    "# Getting choices from DB model \n",
    "In order to display as a select field all the choices from the model, we can specify those choices in the context data and then just check them as key, value pairs in html"
   ]
  },
  {
   "cell_type": "code",
   "execution_count": null,
   "id": "5ebc2154",
   "metadata": {},
   "outputs": [],
   "source": [
    "from django.contrib.auth.mixins import LoginRequiredMixin, UserPassesTestMixin\n",
    "from django.views.generic import ListView\n",
    "from M101.models import M101Requests\n",
    "from django.utils import timezone\n",
    "\n",
    "\n",
    "class M101_requests(UserPassesTestMixin, LoginRequiredMixin, ListView):\n",
    "    model = M101Requests\n",
    "    template_name = \"requests.html\"\n",
    "    context_object_name = \"m101_requests\"\n",
    "    ordering = ['-request_date']\n",
    "    paginate_by = 20\n",
    "    \n",
    "    def get_context_data(self, **kwargs):\n",
    "        context = super().get_context_data(**kwargs)\n",
    "        today = timezone.now().date()\n",
    "        context.update({\n",
    "            'total_requests': M101Requests.objects.filter(\n",
    "                request_date__date=today\n",
    "            ).count(),\n",
    "            \n",
    "            'pending_requests': M101Requests.objects.filter(\n",
    "                request_status=M101Requests.RequestStatus.PENDING\n",
    "            ).count(),\n",
    "            \n",
    "            'completed_requests': M101Requests.objects.filter(\n",
    "                request_status=M101Requests.RequestStatus.COMPLETED\n",
    "            ),\n",
    "            \n",
    "            'user_groups': [group.name for group in self.request.user.groups.all()],\n",
    "            'status_summary': M101Requests.objects.values('request_status').annotate(\n",
    "                total=Count('id')\n",
    "            ),\n",
    "            \n",
    "            'title': 'M101 Requests',\n",
    "            'current_user': self.request.user,\n",
    "            'order_options': [\n",
    "                {'value': '-request_date', 'label': 'Date'},\n",
    "                {'value': 'request_status', 'label': 'Status'},\n",
    "                {'value': 'quantity', 'label': 'Quantity'},\n",
    "            ],\n",
    "            'current_order': self.request.GET.get('order', '-request_date'),\n",
    "            'status_filter': self.request.GET.get('status'),\n",
    "            'request_status_choices': M101Requests.RequestStatus.choices,\n",
    "            'warehouse_status_choices': M101Requests.WarehouseStatus.choices,\n",
    "        })\n",
    "        return context\n",
    "    "
   ]
  },
  {
   "cell_type": "code",
   "execution_count": null,
   "id": "7e204f68",
   "metadata": {
    "vscode": {
     "languageId": "html"
    }
   },
   "outputs": [],
   "source": [
    "<div class=\"mb-3\">\n",
    "    <label for=\"requestStatus\" class=\"form-label\">Request Status</label>\n",
    "    <select class=\"form-select\" id=\"requestStatus\" name=\"request_status\">\n",
    "        {% for value, label in request_status_choices %}\n",
    "            <option value=\"{{ value }}\">{{ label }}</option>\n",
    "        {% endfor %}\n",
    "    </select>\n",
    "</div>\n",
    "<div class=\"mb-3\">\n",
    "    <label for=\"warehouseStatus\" class=\"form-label\">Warehouse Status</label>\n",
    "    <select class=\"form-select\" id=\"warehouseStatus\" name=\"warehouse_status\">\n",
    "        {% for value, label in warehouse_status_choices %}\n",
    "            <option value=\"{{ value }}\">{{ label }}</option>\n",
    "        {% endfor %}\n",
    "    </select>\n",
    "</div>"
   ]
  }
 ],
 "metadata": {
  "language_info": {
   "name": "python"
  }
 },
 "nbformat": 4,
 "nbformat_minor": 5
}
