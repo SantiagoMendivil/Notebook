{
 "cells": [
  {
   "cell_type": "markdown",
   "id": "eb28d59b",
   "metadata": {},
   "source": [
    "# UserPassesTestMixin \n",
    "For class based views this decorator may help a lot by restricting the access from users to a url or view. Import it from `django.contrib.auth.mixins` and list it in the parameters for the class, as the first argument.\n",
    "\n",
    "1. Import the mixin \n",
    "2. Specify it as argument in the class \n",
    "3. Define a method called test_func \n",
    "4. Add the restrictions inside \n",
    "5. Return a boolean value "
   ]
  },
  {
   "cell_type": "code",
   "execution_count": null,
   "id": "ca2f7eea",
   "metadata": {},
   "outputs": [],
   "source": [
    "from django.contrib.auth.mixins import UserPassesTestMixin\n",
    "from django.views.generic import View\n",
    "from django.contrib.auth.models import User, Group\n",
    "\n",
    "\n",
    "class MyView(UserPassesTestMixin, View):\n",
    "    ...\n",
    "    \n",
    "    def test_func(self):\n",
    "        return \"Group\" in User.objects.get(id=self.request.user.id).groups.all() "
   ]
  }
 ],
 "metadata": {
  "language_info": {
   "name": "python"
  }
 },
 "nbformat": 4,
 "nbformat_minor": 5
}
