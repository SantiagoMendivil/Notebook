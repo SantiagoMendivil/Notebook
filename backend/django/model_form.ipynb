{
 "cells": [
  {
   "cell_type": "markdown",
   "id": "d3f062f7",
   "metadata": {},
   "source": [
    "# Creating instances of a model\n",
    "In order to create an instance of a model we can use the ModelForm class from django.forms. This will ensure that a form is rendered being specified by a model class. "
   ]
  },
  {
   "cell_type": "code",
   "execution_count": null,
   "id": "e31d496f",
   "metadata": {},
   "outputs": [],
   "source": [
    "\"\"\"\n",
    "Model form implementation with an example\n",
    "forms.py\n",
    "\"\"\"\n",
    "from django import forms\n",
    "from django.forms import ModelForm\n",
    "from app.models import Reservation\n",
    "\n",
    "\n",
    "class ReservationForm(ModelForm):\n",
    "    \"\"\"Form class for creating a reservation\n",
    "    Attributes:\n",
    "        name (str): Name of the person making the reservation.\n",
    "        email (str): Email address of the person making the reservation.\n",
    "        phone (str): Phone number of the person making the reservation.\n",
    "        date (date): Date of the reservation.\n",
    "        time (time): Time of the reservation.\n",
    "        party_size (int): Number of people in the party.\n",
    "    \"\"\"\n",
    "    class Meta:\n",
    "        \"\"\"Meta class for ReservationForm\"\"\"\n",
    "        model = Reservation\n",
    "        fields = ['name', 'email', 'phone', 'date', 'time', 'party_size']\n",
    "        widgets = {\n",
    "            'name': forms.TextInput(attrs={'class': 'form-control'}),\n",
    "            'email': forms.EmailInput(attrs={'class': 'form-control'}),\n",
    "            'phone': forms.TextInput(attrs={'class': 'form-control'}),\n",
    "            'date': forms.DateInput(attrs={'class': 'form-control', 'type': 'date'}),\n",
    "            'time': forms.TimeInput(attrs={'class': 'form-control', 'type': 'time'}),\n",
    "            'party_size': forms.NumberInput(attrs={'class': 'form-control'}),\n",
    "        }\n",
    "        \n",
    "    def clean_email(self):\n",
    "        \"\"\"Custom validation for email field\n",
    "        \n",
    "        Raises:\n",
    "            forms.ValidationError: If the email is not from the specified domain.\n",
    "        \n",
    "        Returns:\n",
    "            str: The cleaned email address.\n",
    "        \"\"\"\n",
    "        email = self.cleaned_data.get('email')\n",
    "        if not email:\n",
    "            raise forms.ValidationError(\"Email is required.\")\n",
    "        if not email.endswith('@example.com'):\n",
    "            raise forms.ValidationError(\"Email must be from example.com domain.\")\n",
    "        return email\n",
    "    \n",
    "# Create form to add a reservation\n",
    "reservation_form = ReservationForm()"
   ]
  },
  {
   "cell_type": "code",
   "execution_count": null,
   "id": "0fafd075",
   "metadata": {},
   "outputs": [],
   "source": [
    "\"\"\" \n",
    "Example usage of the ReservationForm in a Django view\n",
    "views.py\n",
    "\"\"\"\n",
    "from django.shortcuts import render, redirect\n",
    "from app.forms import ReservationForm\n",
    "\n",
    "\n",
    "def form_view(request):\n",
    "    form = ReservationForm()\n",
    "    if request.method == 'POST':\n",
    "        form = ReservationForm(request.POST)\n",
    "        if form.is_valid():\n",
    "            form.save()\n",
    "    return render(request, 'template.html', {'form': form})"
   ]
  }
 ],
 "metadata": {
  "language_info": {
   "name": "python"
  }
 },
 "nbformat": 4,
 "nbformat_minor": 5
}
