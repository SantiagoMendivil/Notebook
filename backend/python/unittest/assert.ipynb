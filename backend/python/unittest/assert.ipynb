{
 "cells": [
  {
   "cell_type": "markdown",
   "id": "1d51b6f0",
   "metadata": {},
   "source": [
    "# Assert Statement\n",
    "Can be used yo test that a condition is met. If the condition evaluates to False, an AssertionError is raised with an optional error message, like `assert <condition>, 'Message if condition is not met'`"
   ]
  },
  {
   "cell_type": "code",
   "execution_count": null,
   "id": "734b40c0",
   "metadata": {},
   "outputs": [],
   "source": [
    "def times_ten(number):\n",
    "    return number * 100\n",
    "\n",
    "result = times_ten(20)\n",
    "assert result == 200, 'Expected times_ten(20) to return 200, instead got ' + str(result)"
   ]
  },
  {
   "cell_type": "code",
   "execution_count": null,
   "id": "12b7f944",
   "metadata": {},
   "outputs": [],
   "source": [
    "destinations = {\n",
    "    \"BUD\": 'Budapest',\n",
    "    'CMN': 'Casablanca',\n",
    "    'IST': 'Istanbul'\n",
    "}\n",
    "destination = 'HND'\n",
    "\n",
    "assert destination in destinations.keys(), 'Sorry, the destination you selected is not available'"
   ]
  }
 ],
 "metadata": {
  "language_info": {
   "name": "python"
  }
 },
 "nbformat": 4,
 "nbformat_minor": 5
}
