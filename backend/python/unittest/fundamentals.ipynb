{
 "cells": [
  {
   "cell_type": "markdown",
   "metadata": {},
   "source": [
    "# Unit tests\n",
    "\n",
    "## Assertions\n",
    "The assertions are statements that verify whether your code is behaving as expected. An assertion would check that a function call actually returns the expected result, giving \"passes\" result if it is accomplished or \"fails\" if does not.\n",
    "\n",
    "## Test cases\n",
    "A test case is a set of assertions that, together, put a single unit of code through a comprehensive workout. It's like designing a series of exercises. Each assertions in a test case focuses on a specific aspect of the function's behavior. \n",
    "\n",
    "## Test suite\n",
    "This encompases multiple test cases, each targeting different units within a larger module or even your entire codebase. \n",
    "\n",
    "## Test runner\n",
    "A tool that carefully executes all the test cases within it. It then reports the results, letting you know which tests passed and which ones failed. "
   ]
  },
  {
   "cell_type": "markdown",
   "metadata": {},
   "source": [
    "# Why Unit testing? \n",
    "## Error detection\n",
    "They meticulously examine each unit, looking for signs of trouble. By catching bugs early on – when they're still small and isolated – you prevent them from multiplying and causing widespread damage later in the development process. This saves you countless hours of debugging headaches and ensures your application is more stable and reliable.\n",
    "\n",
    "## Code confidence\n",
    "As your project grows, you'll inevitably need to modify or refactor your code. This can be a nerve-wracking process – one small change could unintentionally break something else. But with a comprehensive set of unit tests in place, you gain a safety net. If a change causes a test to fail, you know immediately that something is wrong and can fix it before it affects the rest of your application. This freedom to refactor without fear allows you to continuously improve your code's design and maintainability.\n",
    "\n",
    "## Design Improvement\n",
    "Writing unit tests isn't just about catching bugs; it's also about improving the overall structure of your code. As you strive to make your code testable, you'll naturally gravitate towards modular design principles. You'll break down complex functions into smaller, more manageable units, making your code easier to understand, maintain, and reuse in the future. This is where the analogy of building a house comes in handy—a well-designed house is built with modular components that can be easily modified or replaced if needed.\n",
    "\n",
    "## Living documentation\n",
    "They not only verify its functionality but also demonstrate how it's intended to be used. This is incredibly valuable for other developers who might join your project later on. It also helps you when you revisit your own code after a long break. Instead of trying to decipher what a particular function does, you can simply look at the associated test case for a clear explanation."
   ]
  },
  {
   "cell_type": "markdown",
   "metadata": {},
   "source": [
    "# The unit testing cycle\n",
    "1. Write code\n",
    "2. Write tests\n",
    "3. Run tests\n",
    "4. Fix and repeat\n"
   ]
  },
  {
   "cell_type": "markdown",
   "metadata": {},
   "source": [
    "# Example "
   ]
  },
  {
   "cell_type": "code",
   "execution_count": null,
   "metadata": {},
   "outputs": [],
   "source": [
    "import pytest\n",
    "\n",
    "def calculate_discount(price, percentage):\n",
    "    return price - (price * percentage * 100)\n",
    "\n",
    "class TestDiscountCalculation:\n",
    "    def test_ten_percentage_discount(self):\n",
    "        result = calculate_discount(100, 10)\n",
    "        assert result == 90\n",
    "        \n",
    "    def test_invalid_input(self):\n",
    "        with pytest.raises(TypeError):\n",
    "            calculate_discount(\"100\", 10)"
   ]
  },
  {
   "cell_type": "markdown",
   "metadata": {},
   "source": [
    "A naming convention is to call the test with \"test\" at the beginning followed by \"_\" and the name of the module to test. In order to run the tests we need to call `pytest file.py` being the file the one containing the tests to evaluate. "
   ]
  },
  {
   "cell_type": "markdown",
   "metadata": {},
   "source": [
    "# Fixtures\n",
    "These are defined with the decorator `@pytest.fixture`, they can be shared across multiple tests and be controlled to determine when the setup and teardown occur. "
   ]
  },
  {
   "cell_type": "code",
   "execution_count": null,
   "metadata": {},
   "outputs": [],
   "source": [
    "@pytest.fixture\n",
    "def sample_data():\n",
    "    \"\"\"Setup code\"\"\"\n",
    "    data = [1, 2, 3, 4, 5]\n",
    "    return data\n",
    "\n",
    "def test_sum(sample_data):\n",
    "    \"\"\"Test code\"\"\"\n",
    "    assert sum(sample_data) == 15"
   ]
  }
 ],
 "metadata": {
  "kernelspec": {
   "display_name": "Python 3",
   "language": "python",
   "name": "python3"
  },
  "language_info": {
   "name": "python",
   "version": "3.13.2"
  }
 },
 "nbformat": 4,
 "nbformat_minor": 2
}
