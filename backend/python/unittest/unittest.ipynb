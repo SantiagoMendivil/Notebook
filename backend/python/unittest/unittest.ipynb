{
 "cells": [
  {
   "cell_type": "markdown",
   "id": "03eb9280",
   "metadata": {},
   "source": [
    "# Unittest module \n",
    "This module provides us with a test runner. A test runner is a component that collects and executes and then provides results to the user. The framework also provides many other tools for test grouping, setup, teardown, skipping, and other features."
   ]
  },
  {
   "cell_type": "code",
   "execution_count": null,
   "id": "a4d85258",
   "metadata": {},
   "outputs": [],
   "source": [
    "import unittest\n",
    "\n",
    "def get_nearest_exit(row_number):\n",
    "  if row_number < 15:\n",
    "    location = 'front'\n",
    "  elif row_number < 30:\n",
    "    location = 'middle'\n",
    "  else:\n",
    "    location = 'back'\n",
    "  return location\n",
    "\n",
    "class NearestExitTests(unittest.TestCase):\n",
    "  def test_row_1(self):\n",
    "    self.assertEqual(get_nearest_exit(1), 'front', 'The nearest exit to row 1 is in the front!')\n",
    "    \n",
    "  def test_row_20(self):\n",
    "    self.assertEqual(get_nearest_exit(20), 'middle', 'The nearest exit to row 20 is in the middle!')\n",
    "    \n",
    "  def test_row_40(self):\n",
    "    self.assertEqual(get_nearest_exit(40), 'back', 'The nearest exit to row 40 is in the back!')\n",
    "\n",
    "unittest.main()"
   ]
  },
  {
   "cell_type": "markdown",
   "id": "4d8e8a20",
   "metadata": {},
   "source": [
    "# Best practices\n",
    "1. Follow the AAA pattern\n",
    "   1. Arrange: Set up the test prerequisites and inputs\n",
    "   2. Act: Execute the code being tested\n",
    "   3. Assert: Verify the results\n",
    "2. Test naming conventions\n",
    "   1. Use descriptive names that follow this pattern: `UnitOfWork_Scenario_ExpectedBehavior`"
   ]
  },
  {
   "cell_type": "code",
   "execution_count": null,
   "id": "e211bc72",
   "metadata": {},
   "outputs": [],
   "source": [
    "def test_calculate_total_with_valid_numbers_return_sum():\n",
    "    pass"
   ]
  },
  {
   "cell_type": "markdown",
   "id": "7500db66",
   "metadata": {},
   "source": [
    "3. Single responsibility\n",
    "   1. Test one thing per test\n",
    "   2. Each test should verify a single behavior\n",
    "   3. Avoid multiple assertions unless they're related to the same behavior\n",
    "4. FIRST principles \n",
    "   1. **Tests** should run quickly \n",
    "   2. **Independent**: Tests shouldn't depend on each other\n",
    "   3. **Repeatable**: Same results every time\n",
    "   4. **Self-validating**: Pass/fail without manual interpretation\n",
    "   5. **Timely**: Written before or along with the code (TDD)\n",
    "5. Use setup and teardown "
   ]
  },
  {
   "cell_type": "code",
   "execution_count": null,
   "id": "75d2cbdc",
   "metadata": {},
   "outputs": [],
   "source": [
    "class Calculator:\n",
    "    def __init__(self):\n",
    "        self.numbers = [i for i in range(11)]\n",
    "\n",
    "class TestExampple(unittest.TestCase):\n",
    "    def setUp(self):\n",
    "        # Setup the code runs before each test\n",
    "        self.calculator = Calculator()\n",
    "            \n",
    "    def tearDown(self):\n",
    "        # Cleanup code runs after each test\n",
    "        return super().tearDown()"
   ]
  },
  {
   "cell_type": "markdown",
   "id": "0a55662e",
   "metadata": {},
   "source": [
    "6. Mock external dependencies"
   ]
  },
  {
   "cell_type": "code",
   "execution_count": null,
   "id": "5afe48f3",
   "metadata": {},
   "outputs": [],
   "source": [
    "from unittest.mock import Mock, patch\n",
    "\n",
    "@patch(\"module.external_service\")\n",
    "def function_with_external_dependency(mock_service):\n",
    "    mock_service.return_value = 'mocked_result'"
   ]
  },
  {
   "cell_type": "markdown",
   "id": "24cb73e7",
   "metadata": {},
   "source": [
    "7. Test Edge cases\n",
    "   1. Zero/empty values\n",
    "   2. Boundary conditions \n",
    "   3. Invalid inputs\n",
    "   4. Error conditions\n",
    "8. Keep tests clean\n",
    "   1. Dont Repeat Yourself (DRY principle)\n",
    "   2. Use helper methods for common operations\n",
    "   3. Keep tests simple and readable\n",
    "9. Test coverage\n",
    "   1.  Aim for high coverage but focus on quality \n",
    "   2.  Test both positive and negative scenarios\n",
    "   3.  Include error paths\n",
    "10. Use assertion effectively \n",
    "11. Arrange test data \n",
    "    1.  Use meaningful test data\n",
    "    2.  Consider using factories or fixtures \n",
    "    3.  Avoid using production data\n",
    "12. Documentation\n",
    "    1.  Document test purpose\n",
    "    2.  Add comments for complex test scenarios\n",
    "    3.  Explain test data requirements"
   ]
  }
 ],
 "metadata": {
  "language_info": {
   "name": "python"
  }
 },
 "nbformat": 4,
 "nbformat_minor": 5
}
