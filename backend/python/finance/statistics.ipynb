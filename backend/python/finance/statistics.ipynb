{
 "cells": [
  {
   "cell_type": "markdown",
   "id": "c1bf8e39",
   "metadata": {},
   "source": [
    "# Simple Rate of Return\n",
    "The simple rate of return is defined as the difference between the starting and enfing price of an investment over a time period, divided by the starting price. \n",
    "\n",
    "R = (E - S + D) / S\n",
    "\n",
    "Where:\n",
    "- **R** - Simple rate of return\n",
    "- **S** - Starting price of investment \n",
    "- **E** - Ending price of investment\n",
    "- **D** - Dividend\n"
   ]
  },
  {
   "cell_type": "code",
   "execution_count": 1,
   "id": "49895d25",
   "metadata": {},
   "outputs": [
    {
     "name": "stdout",
     "output_type": "stream",
     "text": [
      "Simple Return:  25.00%\n"
     ]
    }
   ],
   "source": [
    "def display_as_percentage(val):\n",
    "    return '{:.2f}%'.format(val * 100)\n",
    "\n",
    "def calculate_simple_return(start_price, end_price, dividend=0):\n",
    "    \"\"\"\n",
    "    Calculate the simple return of an investment.\n",
    "    \n",
    "    Parameters:\n",
    "    start_price (float): The initial price of the investment.\n",
    "    end_price (float): The final price of the investment.\n",
    "    dividend (float): The dividend received during the period (default is 0).\n",
    "    \n",
    "    Returns:\n",
    "    float: The simple return as a decimal.\n",
    "    \"\"\"\n",
    "    return (end_price - start_price + dividend) / start_price\n",
    "\n",
    "simple_return = calculate_simple_return(100, 120, 5)\n",
    "print(\"Simple Return: \", display_as_percentage(simple_return))"
   ]
  },
  {
   "cell_type": "markdown",
   "id": "950678ae",
   "metadata": {},
   "source": [
    "# Logarithmic Rate of Return\n",
    "Also known as the continously compounded return. This is the expected return for an investment where the earnigns are assumed to be continually reinvested over the time period. \n",
    "It is calculated by taking the difference between the log of the ending price and the log of the starting price. \n",
    "\n",
    "R = log(E) - log(S) = log(E / S)\n",
    "\n",
    "Where:\n",
    "- **R** - Logarithmic rate of return\n",
    "- **S** - Starting price of investment\n",
    "- **E** - Ending price of investment\n"
   ]
  },
  {
   "cell_type": "code",
   "execution_count": 2,
   "id": "79a65ae4",
   "metadata": {},
   "outputs": [
    {
     "name": "stdout",
     "output_type": "stream",
     "text": [
      "The log rate of return is 22.3%\n"
     ]
    }
   ],
   "source": [
    "from math import log\n",
    "\n",
    "def display_as_percentage(val):\n",
    "  return '{:.1f}%'.format(val * 100)\n",
    "\n",
    "def calculate_log_return(start_price, end_price):\n",
    "  return log(end_price) - log(start_price)\n",
    "\n",
    "log_return = calculate_log_return(200, 250)\n",
    "\n",
    "print(f\"The log rate of return is {display_as_percentage(log_return)}\")"
   ]
  }
 ],
 "metadata": {
  "kernelspec": {
   "display_name": "Python 3",
   "language": "python",
   "name": "python3"
  },
  "language_info": {
   "codemirror_mode": {
    "name": "ipython",
    "version": 3
   },
   "file_extension": ".py",
   "mimetype": "text/x-python",
   "name": "python",
   "nbconvert_exporter": "python",
   "pygments_lexer": "ipython3",
   "version": "3.11.9"
  }
 },
 "nbformat": 4,
 "nbformat_minor": 5
}
