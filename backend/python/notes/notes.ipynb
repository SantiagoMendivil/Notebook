{
 "cells": [
  {
   "cell_type": "markdown",
   "metadata": {},
   "source": [
    "# Table of contents \n",
    "- [Table of contents](#table-of-contents)\n",
    "- [Check if a path exists](#check-if-a-path-exists)\n",
    "- [Trigger a signal within a method](#trigger-a-signal-within-a-method)\n",
    "- [Functionality to make the users to change their password every 30 days](#functionality-to-make-the-users-to-change-their-password-every-30-days)"
   ]
  },
  {
   "cell_type": "markdown",
   "metadata": {},
   "source": [
    "# Check if a path exists"
   ]
  },
  {
   "cell_type": "code",
   "execution_count": null,
   "metadata": {},
   "outputs": [],
   "source": [
    "import os\n",
    "\n",
    "def dir_exists(path):\n",
    "    if not os.path.exists(path):\n",
    "        os.makedirs(path)"
   ]
  },
  {
   "cell_type": "markdown",
   "metadata": {},
   "source": [
    "# Trigger a signal within a method"
   ]
  },
  {
   "cell_type": "code",
   "execution_count": null,
   "metadata": {},
   "outputs": [],
   "source": [
    "# signals.py\n",
    "from django.dispatch import Signal, receiver\n",
    "from Services import ProcessSignal\n",
    "\n",
    "signal_to_trigger = Signal()\n",
    "\n",
    "@receiver(signal_to_trigger)\n",
    "def handle_signal_to_trigger(sender, item):\n",
    "    service = ProcessSignal()\n",
    "    service.process_signal(sender, item)"
   ]
  },
  {
   "cell_type": "code",
   "execution_count": null,
   "metadata": {},
   "outputs": [],
   "source": [
    "# services.py \n",
    "class ProcessSignal:\n",
    "    def process_signal(self, sender, item):\n",
    "        print(f\"Processing signal from {sender.__class__.__name__} with item {item}\")"
   ]
  },
  {
   "cell_type": "code",
   "execution_count": null,
   "metadata": {},
   "outputs": [],
   "source": [
    "# views.py\n",
    "from django.http import request\n",
    "from signals import signal_to_trigger\n",
    "\n",
    "def view_that_triggers_signal(request):\n",
    "    print(\"View that triggers the signal\")\n",
    "    signal_to_trigger.send(\n",
    "        sender=request.user,\n",
    "        item=\"The model or data\"\n",
    "    )"
   ]
  },
  {
   "cell_type": "markdown",
   "metadata": {},
   "source": [
    "# Functionality to make the users to change their password every 30 days"
   ]
  },
  {
   "cell_type": "code",
   "execution_count": null,
   "metadata": {},
   "outputs": [],
   "source": [
    "# models.py\n",
    "from django.db import models\n",
    "from django.contrib.auth.models import User\n",
    "from django.utils import timezone\n",
    "\n",
    "# Create your models here.\n",
    "class PasswordHistory(models.Model):\n",
    "    user = models.OneToOneField(User, on_delete=models.CASCADE)\n",
    "    password_change_date = models.DateTimeField(default=timezone.now)\n",
    "    password_next_change_date = models.DateTimeField(default=timezone.now)\n",
    "    \n",
    "    class Meta:\n",
    "        get_latest_by = 'password_change_date'\n",
    "        \n",
    "    def is_change_required(self):\n",
    "        return timezone.now() >= self.password_next_change_date\n",
    "        \n",
    "    def __str__(self):\n",
    "        return f\"Last password change {self.password_change_date} for user {self.user.first_name}\""
   ]
  },
  {
   "cell_type": "code",
   "execution_count": null,
   "metadata": {},
   "outputs": [],
   "source": [
    "# signals.py\n",
    "\"\"\"Signals for the user's password tracking\"\"\"\n",
    "from django.contrib.auth.models import User\n",
    "from django.db.models.signals import post_save\n",
    "from django.dispatch import receiver\n",
    "from django.contrib.auth.signals import user_logged_in \n",
    "from .models import PasswordHistory\n",
    "from django.utils import timezone\n",
    "from datetime import timedelta \n",
    "\n",
    "@receiver(post_save, sender=User)\n",
    "def create_password_schedule(sender, instance, created, **kwargs):\n",
    "    if created:\n",
    "        PasswordHistory.objects.create(\n",
    "            user=instance,\n",
    "            password_change_date=timezone.now(),\n",
    "            password_next_change_date=timezone.now()\n",
    "        )\n",
    "        \n",
    "@receiver(user_logged_in)\n",
    "def force_password_change_check(sender, request, user, **kwargs):\n",
    "    schedule, created = PasswordHistory.objects.get_or_create(\n",
    "        user=user,\n",
    "        defaults={\n",
    "            'password_change_date': timezone.now(),\n",
    "            'password_next_change_date': timezone.now() \n",
    "        }\n",
    "    )\n",
    "    if created or schedule.is_change_required():\n",
    "        request.session['password_change_required'] = True\n",
    "    else:\n",
    "        request.session['password_change_required'] = False\n",
    "    request.session.modified = True # Force save the session"
   ]
  },
  {
   "cell_type": "code",
   "execution_count": null,
   "metadata": {},
   "outputs": [],
   "source": [
    "# middlewares.py\n",
    "from django.shortcuts import redirect\n",
    "from django.urls import reverse\n",
    "import logging\n",
    "\n",
    "logger = logging.getLogger(__name__)\n",
    "\n",
    "class PasswordExpiryMiddleware:\n",
    "    def __init__(self, get_response):\n",
    "        self.get_response = get_response\n",
    "\n",
    "    def __call__(self, request):\n",
    "        # Add logging to verify the middleware is running\n",
    "        if request.user.is_authenticated:\n",
    "            change_required = request.session.get('password_change_required', False)\n",
    "            logger.debug(f\"User {request.user.username} authenticated, password_change_required: {change_required}\")\n",
    "            \n",
    "            if change_required:\n",
    "                change_password_url = reverse('password_change')\n",
    "                logout_url = reverse('logoutuser')\n",
    "                \n",
    "                # Don't redirect if already on these pages\n",
    "                if request.path != change_password_url and request.path != logout_url:\n",
    "                    logger.debug(f\"Redirecting user {request.user.username} to password change\")\n",
    "                    return redirect(change_password_url)\n",
    "        \n",
    "        return self.get_response(request)"
   ]
  },
  {
   "cell_type": "code",
   "execution_count": null,
   "metadata": {},
   "outputs": [],
   "source": [
    "# views.py\n",
    "from django.contrib.auth.views import PasswordChangeView\n",
    "from django.urls import reverse_lazy\n",
    "from .forms import SchedulePasswordChangeForm\n",
    "\n",
    "# Create your views here.\n",
    "class ScheduledPasswordChangeView(PasswordChangeView):\n",
    "    \"\"\"Password change view handler for the user's password\n",
    "    \n",
    "    Args:\n",
    "        PasswordChangeView: Django's built-in password change view\n",
    "    \"\"\"\n",
    "    form_class = SchedulePasswordChangeForm\n",
    "    success_url = reverse_lazy('index')\n",
    "    template_name = 'password_change.html'\n",
    "    \n",
    "    def get_form_kwargs(self):\n",
    "        kwargs = super().get_form_kwargs()\n",
    "        kwargs['request'] = self.request\n",
    "        return kwargs\n",
    "    \n"
   ]
  },
  {
   "cell_type": "code",
   "execution_count": null,
   "metadata": {},
   "outputs": [],
   "source": [
    "# forms.py\n",
    "from django.contrib.auth.forms import PasswordChangeForm\n",
    "from django.utils import timezone\n",
    "from django.core.exceptions import ValidationError\n",
    "from datetime import timedelta\n",
    "from .models import PasswordHistory\n",
    "\n",
    "class SchedulePasswordChangeForm(PasswordChangeForm):\n",
    "    def __init__(self, user=None, request=None, *args, **kwargs):\n",
    "        self.request = request\n",
    "        super().__init__(user, *args, **kwargs)\n",
    "        \n",
    "    def save(self, commit=True):\n",
    "        user = super().save(commit)\n",
    "        now = timezone.now()\n",
    "        next_change = now + timedelta(days=30)\n",
    "        schedule, created = PasswordHistory.objects.get_or_create(\n",
    "            user=user, \n",
    "            defaults={\n",
    "                'password_change_date': now,\n",
    "                'password_next_change_date': next_change,\n",
    "            }\n",
    "        )\n",
    "        if not created:\n",
    "            schedule.password_change_date = now\n",
    "            schedule.password_next_change_date = next_change\n",
    "            schedule.save()\n",
    "            \n",
    "        if self.request:\n",
    "            self.request.session['password_change_required'] = False\n",
    "            \n",
    "        return user"
   ]
  },
  {
   "cell_type": "code",
   "execution_count": null,
   "metadata": {},
   "outputs": [],
   "source": [
    "# settings.py\n",
    "MIDDLEWARE = [\n",
    "    'app.middleware.PasswordExpiryMiddleware',\n",
    "]"
   ]
  },
  {
   "cell_type": "code",
   "execution_count": null,
   "metadata": {},
   "outputs": [],
   "source": [
    "# apps.py\n",
    "# In your apps.py\n",
    "from django.apps import AppConfig\n",
    "\n",
    "class YourAppConfig(AppConfig):\n",
    "    name = 'your_app'\n",
    "\n",
    "    def ready(self):\n",
    "        import your_app.signals  # Import the signals module"
   ]
  },
  {
   "cell_type": "code",
   "execution_count": null,
   "metadata": {
    "vscode": {
     "languageId": "html"
    }
   },
   "outputs": [],
   "source": [
    "{% extends \"layout.html\" %}\n",
    "{% load static %}\n",
    "<link href=\"{% static \"css/password_change.css\" %}\" rel=\"stylesheet\" >\n",
    "\n",
    "{% block content %}\n",
    "\n",
    "<div class=\"row align-items-center justify-content-center vh-100\">\n",
    "    <div class=\"col-md-5 col-lg-4 d-flex flex-column py-6\">\n",
    "        <img src=\"{% static \"image.png\" %}\">\n",
    "    </div>\n",
    "    <div class=\"col-md-5 col-lg-4 d-flex flex-column py-6\">\n",
    "        <h1 class=\"mb-2 text-center title\">Re-establish your password</h1>\n",
    "        <p class=\"text-center secondary-text\">For safety reasons, you must change your password again to access the techtool. This will be requested again in one month.</p>\n",
    "        <form method=\"POST\">\n",
    "            {% csrf_token %}                \n",
    "            <div class=\"mb-4\">\n",
    "                <label for=\"id_old_password\">Current Password</label>\n",
    "                <input type=\"password\" \n",
    "                        name=\"old_password\" \n",
    "                        id=\"id_old_password\" \n",
    "                        class=\"form-control {% if form.old_password.errors %}is-invalid{% endif %}\"\n",
    "                        required>\n",
    "                {% for error in form.old_password.errors %}\n",
    "                    <div class=\"invalid-feedback\">{{ error }}</div>\n",
    "                {% endfor %}\n",
    "            </div>\n",
    "            <div class=\"mb-4\">\n",
    "                <label for=\"id_new_password1\">New Password</label>\n",
    "                <input type=\"password\" \n",
    "                        name=\"new_password1\" \n",
    "                        id=\"id_new_password1\" \n",
    "                        class=\"form-control {% if form.new_password1.errors %}is-invalid{% endif %}\"\n",
    "                        required>\n",
    "                {% for error in form.new_password1.errors %}\n",
    "                    <div class=\"invalid-feedback\">{{ error }}</div>\n",
    "                {% endfor %}\n",
    "            </div>\n",
    "            <div class=\"mb-4\">\n",
    "                <label for=\"id_new_password2\">Confirm New Password</label>\n",
    "                <input type=\"password\" \n",
    "                        name=\"new_password2\" \n",
    "                        id=\"id_new_password2\" \n",
    "                        class=\"form-control {% if form.new_password2.errors %}is-invalid{% endif %}\"\n",
    "                        required>\n",
    "                {% for error in form.new_password2.errors %}\n",
    "                    <div class=\"invalid-feedback\">{{ error }}</div>\n",
    "                {% endfor %}\n",
    "            </div>\n",
    "\n",
    "            <button type=\"submit\" class=\"button-primary w-100 mt-3 mb-2\">Change password</button>\n",
    "        </form>\n",
    "    </div>\n",
    "</div>\n",
    "\n",
    "{% endblock content %}"
   ]
  }
 ],
 "metadata": {
  "language_info": {
   "name": "python"
  }
 },
 "nbformat": 4,
 "nbformat_minor": 2
}
