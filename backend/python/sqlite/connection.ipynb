{
 "cells": [
  {
   "cell_type": "markdown",
   "id": "cbdc8849",
   "metadata": {},
   "source": [
    "# Connecting to SQLite in python\n",
    "Once we have sqlite3 imported, we will need to connect to a database. We can use `sqlite3.connect()` API. "
   ]
  },
  {
   "cell_type": "code",
   "execution_count": null,
   "id": "b40b7391",
   "metadata": {},
   "outputs": [],
   "source": [
    "import sqlite3\n",
    "\n",
    "# Make a connection to the SQLite database\n",
    "connection = sqlite3.connect('example.db')"
   ]
  },
  {
   "cell_type": "markdown",
   "id": "338f17c5",
   "metadata": {},
   "source": [
    "# Creating a Cursor object\n",
    "With `sqlite3.connect()` we stablish a connection to the SQLite databse \"example.db\". \n",
    "- Represent a database cursor. \n",
    "- Call statements to our SQLite database. \n",
    "- Return the data in our python environment. We create a cursor object by using the cursor method from the connection class. "
   ]
  },
  {
   "cell_type": "code",
   "execution_count": null,
   "id": "2c6657b1",
   "metadata": {},
   "outputs": [],
   "source": [
    "cursor = connection.cursor()"
   ]
  },
  {
   "cell_type": "markdown",
   "id": "0ef9ea1b",
   "metadata": {},
   "source": [
    "# Executing SQL statements in Python\n",
    "Once created the connection and the cursor, we can then use the `execute()` method to our cursor object to execute SQL statements. \n",
    "\n",
    "## Create A Table\n",
    "CREATE TABLE command to create a table with a cursor."
   ]
  },
  {
   "cell_type": "code",
   "execution_count": null,
   "id": "490a1057",
   "metadata": {},
   "outputs": [],
   "source": [
    "cursor.execute('''\n",
    "    CREATE TABLE IF NOT EXISTS toys (\n",
    "        id INTEGER PRIMARY KEY, \n",
    "        name TEXT NOT NULL, \n",
    "        price REAL NOT NULL, \n",
    "        type TEXT NOT NULL,\n",
    "    )           \n",
    "''')"
   ]
  },
  {
   "cell_type": "markdown",
   "id": "31bd1dde",
   "metadata": {},
   "source": [
    "## Insert Data\n",
    "We can insert data into a table by using the INSERT INTO command from SQL."
   ]
  },
  {
   "cell_type": "code",
   "execution_count": null,
   "id": "f6bc6c3d",
   "metadata": {},
   "outputs": [],
   "source": [
    "cursor.execute('''\n",
    "    INSERT INTO toys (name, price, type) VALUES\n",
    "    ('Teddy Bear', 19.99, 'Stuffed Animal'),\n",
    "    ('Lego Set', 49.99, 'Building Blocks'),\n",
    "    ('Action Figure', 14.99, 'Figurine'),\n",
    "    ('Puzzle', 9.99, 'Board Game')               \n",
    "''')"
   ]
  },
  {
   "cell_type": "markdown",
   "id": "f79581c7",
   "metadata": {},
   "source": [
    "# Inserting Multiple Rows with .executemany()\n",
    "We can insert multiple rows instead of just one by using `executemany()`. It is needed to place ? marks as the fields of the table in order to be replaced by the items marked in the list. "
   ]
  },
  {
   "cell_type": "code",
   "execution_count": null,
   "id": "d359b401",
   "metadata": {},
   "outputs": [],
   "source": [
    "# Insert multiple values into table at once\n",
    "new_students = [(102, 'Joe', 32, '2022-05-16', 'Pass'),\n",
    "           (103, 'Stacy', 10, '2022-05-16', 'Pass'),\n",
    "           (104, 'Angela', 21, '2022-12-20', 'Pass'),\n",
    "           (105, 'Mark', 21, '2022-12-20', 'Fail'),\n",
    "           (106, 'Nathan', 21, '2022-12-20', 'Pass')\n",
    "           ]\n",
    "# Insert values into the students table\n",
    "cursor.executemany(\n",
    "    '''INSERT INTO students VALUES (?,?,?,?,?)''', \n",
    "    new_students\n",
    ")"
   ]
  }
 ],
 "metadata": {
  "language_info": {
   "name": "python"
  }
 },
 "nbformat": 4,
 "nbformat_minor": 5
}
