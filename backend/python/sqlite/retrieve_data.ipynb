{
 "cells": [
  {
   "cell_type": "markdown",
   "id": "b34b71b1",
   "metadata": {},
   "source": [
    "# Retrieving Data\n",
    "For all data retrieval methods we need to use the command of SELECT * FROM table_name of SQL. \n",
    "\n",
    "## fetchone()\n",
    "This method used with the `cursor.execute()` will fetch one row of the data. Specifically the first row found within the command."
   ]
  },
  {
   "cell_type": "code",
   "execution_count": null,
   "id": "90a1391e",
   "metadata": {},
   "outputs": [],
   "source": [
    "import sqlite3\n",
    "\n",
    "con = sqlite3.connect('example.db')\n",
    "cur = con.cursor()\n",
    "\n",
    "cur.execute(\"SELECT * FROM users\").fetchone()"
   ]
  }
 ],
 "metadata": {
  "language_info": {
   "name": "python"
  }
 },
 "nbformat": 4,
 "nbformat_minor": 5
}
