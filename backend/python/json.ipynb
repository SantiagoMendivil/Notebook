{
 "cells": [
  {
   "cell_type": "markdown",
   "metadata": {},
   "source": [
    "# Json Module\n",
    "## Serializing from Python to JSON\n",
    "Convert a python object into json data. It can receive a few parameters:\n",
    "- indent=4 -> Formats the output with indentation of 4 spaces\n",
    "- sort_keys=True -> Order alphabetically the keys\n",
    "- ensure_ascii=False -> Allows Unicode characters "
   ]
  },
  {
   "cell_type": "code",
   "execution_count": null,
   "metadata": {},
   "outputs": [],
   "source": [
    "import json\n",
    "\n",
    "data = {\n",
    "    'name': 'John Doe',\n",
    "    'age': 30,\n",
    "    'city': 'New York'\n",
    "}\n",
    "json_string = json.dumps(data)\n",
    "print(json_string) # '{\"name\": \"Alice\", \"age\": 25, \"city\": \"New York\"}'"
   ]
  },
  {
   "cell_type": "markdown",
   "metadata": {},
   "source": [
    "## Des-serializing from JSON to Python\n",
    "It converts a JSON string to a Python object. This can be used in ordere to print JSON elements. "
   ]
  },
  {
   "cell_type": "code",
   "execution_count": null,
   "metadata": {},
   "outputs": [],
   "source": [
    "json_string = '{\"name\": \"Alice\", \"age\": 25, \"city\": \"New York\"}'\n",
    "data = json.loads(json_string)\n",
    "print(data[\"name\"])  # Alice"
   ]
  },
  {
   "cell_type": "markdown",
   "metadata": {},
   "source": [
    "## Read JSON from a file\n",
    "Load a JSON data from a file"
   ]
  },
  {
   "cell_type": "code",
   "execution_count": null,
   "metadata": {},
   "outputs": [],
   "source": [
    "with open(\"daja_json\", \"r\") as file:\n",
    "    data = json.load(file)\n",
    "print(data)"
   ]
  },
  {
   "cell_type": "markdown",
   "metadata": {},
   "source": [
    "## Save JSON in a file\n",
    "If you want to convert a Python object into JSON file, you must do the following: "
   ]
  },
  {
   "cell_type": "code",
   "execution_count": null,
   "metadata": {},
   "outputs": [],
   "source": [
    "data = {\"name\": \"Santiago\", \"age\": \"20\", \"city\": \"San Francisco\"}\n",
    "with open(\"data\", \"w\") as file: \n",
    "    json.dump(data, file, indent=4)"
   ]
  },
  {
   "cell_type": "markdown",
   "metadata": {},
   "source": [
    "## Errors while loading JSON\n",
    "If you try to load a JSON file with errors, you can handle them with try:except"
   ]
  },
  {
   "cell_type": "code",
   "execution_count": null,
   "metadata": {},
   "outputs": [],
   "source": [
    "try:\n",
    "    json.loads('{\"name\": \"Santiago\", \"age\": \"20\", \"city\": \"San Francisco\"}')\n",
    "except json.JSONDecodeError as e:\n",
    "    print(f\"JSON error: {e}\")"
   ]
  }
 ],
 "metadata": {
  "kernelspec": {
   "display_name": "Python 3",
   "language": "python",
   "name": "python3"
  },
  "language_info": {
   "name": "python",
   "version": "3.13.2"
  }
 },
 "nbformat": 4,
 "nbformat_minor": 2
}
