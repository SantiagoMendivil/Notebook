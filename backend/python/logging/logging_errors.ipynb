{
 "cells": [
  {
   "cell_type": "markdown",
   "metadata": {},
   "source": [
    "# Logging Errors and Messages\n",
    "The logging module has several methods that we can use to log messages and errors with an assigned severity level. Those methods are: \n",
    "\n",
    "- **denug(msg)** which logs a message with level DEBUG\n",
    "- **info(msg)** which logs a message with level INFO\n",
    "- **warning(msg)** which logs a message with level WARNING\n",
    "- **error(msg)** which logs a message with level ERROR\n",
    "- **critial(msg)** which logs a message with level CRITICAL\n",
    "\n",
    "The logging module also provides a method calles `log(level, msg)` that allows us to log a specific log level and message. "
   ]
  },
  {
   "cell_type": "code",
   "execution_count": null,
   "metadata": {},
   "outputs": [],
   "source": [
    "import logging\n",
    "\n",
    "logger = logging.getLogger(__name__)\n",
    "\n",
    "logger.log(logging.INFO, \"Information message for testing\")"
   ]
  },
  {
   "cell_type": "markdown",
   "metadata": {},
   "source": [
    "# Code example"
   ]
  },
  {
   "cell_type": "code",
   "execution_count": null,
   "metadata": {},
   "outputs": [],
   "source": [
    "import logging\n",
    "import sys\n",
    "\n",
    "logger = logging.getLogger(__name__)\n",
    "stream_handler = logging.StreamHandler(sys.stdout) # Display the messages to console\n",
    "logger.addHandler(stream_handler)\n",
    "\n",
    "def division():\n",
    "    try:\n",
    "        dividend = float(input(\"Enter dividend: \"))\n",
    "        logger.info(dividend)\n",
    "        divisor = float(input(\"Enter divisor: \"))\n",
    "        logger.info(divisor)\n",
    "    except ValueError:\n",
    "        logger.log(logging.CRITICAL, \"No dividend or divisor provided\")\n",
    "        return None\n",
    "    \n",
    "    if divisor == 0:\n",
    "        logger.error(\"Attempting to divide by zero!\")\n",
    "        return None\n",
    "    else:\n",
    "        return dividend / divisor\n",
    "    \n",
    "result = division()\n",
    "if result is None:\n",
    "    logger.warning(\"No result to display\")"
   ]
  }
 ],
 "metadata": {
  "language_info": {
   "name": "python"
  }
 },
 "nbformat": 4,
 "nbformat_minor": 2
}
