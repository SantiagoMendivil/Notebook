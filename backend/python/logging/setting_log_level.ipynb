{
 "cells": [
  {
   "cell_type": "markdown",
   "metadata": {},
   "source": [
    "# Setting the log level\n",
    "Each logger has a default set of log levels that will output unless a different log level is explicitly set. The default log level is `WARNING` in python's logging module. \n",
    "\n",
    "If you use this log level by default, only warning level or higher messages will be processed in the console. \n",
    "\n",
    "To change this, you can call `setLevel(level)` to change this default value"
   ]
  },
  {
   "cell_type": "code",
   "execution_count": null,
   "metadata": {},
   "outputs": [],
   "source": [
    "import logging\n",
    "import sys\n",
    "\n",
    "logger = logging.getLogger(__name__)\n",
    "stream_handler = logging.StreamHandler(sys.stdout)\n",
    "logger.addHandler(stream_handler)\n",
    "\n",
    "logger.setLevel(logging.INFO)"
   ]
  }
 ],
 "metadata": {
  "language_info": {
   "name": "python"
  }
 },
 "nbformat": 4,
 "nbformat_minor": 2
}
