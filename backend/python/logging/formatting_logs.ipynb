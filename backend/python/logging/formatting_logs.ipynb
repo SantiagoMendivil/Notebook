{
 "cells": [
  {
   "cell_type": "markdown",
   "metadata": {},
   "source": [
    "# Formating the logs\n",
    "This allows us to include helpful information with each logged message, including: \n",
    "\n",
    "- Timestamps\n",
    "- The module name \n",
    "- The line number \n",
    "\n",
    "If no custom formatting is specified, python uses the default formatting for all log messages: `%(levelnae)s:%(name)s%(message)s`\n",
    "\n",
    "For example, this code: "
   ]
  },
  {
   "cell_type": "code",
   "execution_count": null,
   "metadata": {},
   "outputs": [],
   "source": [
    "import logging\n",
    "import sys \n",
    "\n",
    "logger = logging.getLogger(__name__)\n",
    "stream_handler = logging.StreamHandler(sys.stdout)\n",
    "logger.addHandler(stream_handler)\n",
    "\n",
    "logger.warning(\"This is a warning message\")"
   ]
  },
  {
   "cell_type": "markdown",
   "metadata": {},
   "source": [
    "Produces the following log message output: `WARNING:script:this is a warnign message`\n",
    "\n",
    "We can create a custom formatter using the `Formatter` class. This accepts the formatted string as the first input value. "
   ]
  },
  {
   "cell_type": "code",
   "execution_count": null,
   "metadata": {},
   "outputs": [],
   "source": [
    "formatter = logging.Formatter(\"[%(asctime)s] %(levelname)s:%(name)s:%(lineno)d:%(message)s\")\n",
    "stream_handler.setFormatter(formatter)"
   ]
  },
  {
   "cell_type": "markdown",
   "metadata": {},
   "source": [
    "# Code example"
   ]
  },
  {
   "cell_type": "code",
   "execution_count": null,
   "metadata": {},
   "outputs": [],
   "source": [
    "import logging\n",
    "import sys\n",
    "\n",
    "logger = logging.getLogger(__name__)\n",
    "logger.setLevel(logging.DEBUG)\n",
    "file_handler = logging.FileHandler(\"formatted.log\")\n",
    "stream_handler = logging.StreamHandler(sys.stdout)\n",
    "\n",
    "formatter1 = logging.Formatter(\"[%(asctime)s] {%(levelname)s} %(name)s: #%(lineno)d - %(message)s\")\n",
    "file_handler.setFormatter(formatter1)\n",
    "formatter2 = logging.Formatter(\"[%(asctime)s] {%(levelname)s} - %(message)s\")\n",
    "stream_handler.setFormatter(formatter2)\n",
    "\n",
    "logger.addHandler(file_handler)\n",
    "logger.addHandler(stream_handler)\n",
    "\n",
    "       \n",
    "def division():\n",
    "  logger.debug(\"Starting Division!\")\n",
    "  try:\n",
    "    dividend = float(input(\"Enter the dividend: \"))\n",
    "    logger.info(dividend)\n",
    "    divisor = float(input(\"Enter the divisor: \"))\n",
    "    logger.info(divisor)\n",
    "  except SyntaxError:\n",
    "    logger.log(logging.CRITICAL, \"No dividend or divisor value entered!\")\n",
    "    return\n",
    "  if divisor == 0:\n",
    "    logger.error(\"Attempting to divide by 0!\")\n",
    "    return\n",
    "  else:\n",
    "    return dividend/divisor\n",
    "\n",
    "result = division()\n",
    "if result == None:\n",
    " logger.warning(\"The result value is None!\")"
   ]
  }
 ],
 "metadata": {
  "language_info": {
   "name": "python"
  }
 },
 "nbformat": 4,
 "nbformat_minor": 2
}
