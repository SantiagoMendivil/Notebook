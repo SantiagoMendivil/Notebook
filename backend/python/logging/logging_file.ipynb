{
 "cells": [
  {
   "cell_type": "markdown",
   "metadata": {},
   "source": [
    "# Logging to a file\n",
    "Writing logs to a saved file makes our logs persistable after program execution, and it allows the log file to be searched or ingested into other application. \n",
    "\n",
    "To write logs to a saved file, we can use the logging module class `FileHandler(filename)`"
   ]
  },
  {
   "cell_type": "code",
   "execution_count": null,
   "metadata": {},
   "outputs": [],
   "source": [
    "import logging \n",
    "\n",
    "logger = logging.getLogger(__name__)\n",
    "\n",
    "\n",
    "file_handler = logging.FileHandler('example.log')\n",
    "logger.addHandler(file_handler)"
   ]
  }
 ],
 "metadata": {
  "language_info": {
   "name": "python"
  }
 },
 "nbformat": 4,
 "nbformat_minor": 2
}
