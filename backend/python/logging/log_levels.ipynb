{
 "cells": [
  {
   "cell_type": "markdown",
   "metadata": {},
   "source": [
    "# Log Levels\n",
    "Each logging module with an associated numeric value. The higher this numeric value, the higher the severity of the log message. Each logging level is defined as: \n",
    "\n",
    "- **NOTSET**: 0\n",
    "- **DEBUG**: 10\n",
    "- **INFO**: 20\n",
    "- **WARNING**: 30\n",
    "- **ERROR**: 40\n",
    "- **CRITICAL**: 50\n",
    "\n",
    "- We can use logging.DEBUG to provide detail information that is useful for debugging the applicacion. \n",
    "- We can use logging.INFO for general operations where expected information or output is logged. \n",
    "- We should use logging.WARNING to alert us to a current or impending, unexpected issue or error. \n",
    "- We should use logging.ERROR to indicate serious problems that cause functionality within the software application\n",
    "- We should use logging.CRITICAL for the most severe of errors and issues. \n",
    "- We should use the logging.NOTSET when searching for the first non-NOTSET ancestor logger and inherits its logging level."
   ]
  },
  {
   "cell_type": "code",
   "execution_count": 1,
   "metadata": {},
   "outputs": [
    {
     "name": "stdout",
     "output_type": "stream",
     "text": [
      "0\n",
      "10\n",
      "20\n",
      "30\n",
      "40\n",
      "50\n"
     ]
    }
   ],
   "source": [
    "import logging\n",
    "\n",
    "print(logging.NOTSET)\n",
    "print(logging.DEBUG)\n",
    "print(logging.INFO)\n",
    "print(logging.WARNING)\n",
    "print(logging.ERROR)\n",
    "print(logging.CRITICAL)"
   ]
  }
 ],
 "metadata": {
  "kernelspec": {
   "display_name": "Python 3",
   "language": "python",
   "name": "python3"
  },
  "language_info": {
   "codemirror_mode": {
    "name": "ipython",
    "version": 3
   },
   "file_extension": ".py",
   "mimetype": "text/x-python",
   "name": "python",
   "nbconvert_exporter": "python",
   "pygments_lexer": "ipython3",
   "version": "3.11.9"
  }
 },
 "nbformat": 4,
 "nbformat_minor": 2
}
