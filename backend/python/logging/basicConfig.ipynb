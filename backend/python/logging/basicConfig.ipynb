{
 "cells": [
  {
   "cell_type": "markdown",
   "metadata": {},
   "source": [
    "# Using basicConfig()\n",
    "This method allows for the configuration of some components in one easy step. \n",
    "The method allows for the basic configuration of the logger object by configuring the log level, any handlers, log message formatting options, and more in one line of code. \n",
    "\n",
    "For example: "
   ]
  },
  {
   "cell_type": "code",
   "execution_count": null,
   "metadata": {},
   "outputs": [],
   "source": [
    "import logging\n",
    "logging.basicConfig(\n",
    "    filename='calculator.log', \n",
    "    level=logging.DEBUG, \n",
    "    format='[%(asctime)s] %(levelname)s - %(message)s'\n",
    ")\n"
   ]
  },
  {
   "cell_type": "markdown",
   "metadata": {},
   "source": [
    "The code above adds a fileHandler automatically that will write on calculator.log setting the level to debug, and format all logged messages to have a timestamp, log level and message information."
   ]
  }
 ],
 "metadata": {
  "language_info": {
   "name": "python"
  }
 },
 "nbformat": 4,
 "nbformat_minor": 2
}
