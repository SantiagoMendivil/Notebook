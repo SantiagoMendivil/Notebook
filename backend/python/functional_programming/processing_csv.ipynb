{
 "cells": [
  {
   "cell_type": "markdown",
   "id": "83de68c7",
   "metadata": {},
   "source": [
    "# Processing data from a CSV file\n",
    "When reading large amount of data, it could be ineficient to read all the data using tuple for example, The map returns an iterator that we can use to bring in data. We can apply higher order functions to this iterator to process the data and only. For example\" "
   ]
  },
  {
   "cell_type": "code",
   "execution_count": null,
   "id": "caad6406",
   "metadata": {},
   "outputs": [],
   "source": [
    "import csv\n",
    "from collections import namedtuple\n",
    "from functools import reduce\n",
    "\n",
    "tree = namedtuple(\"tree\", [\"index\", \"width\", \"height\", \"volume\"]) \n",
    "\n",
    "with open('trees.csv', newline = '') as csvfile:\n",
    "    reader = csv.reader(csvfile, delimiter=',', quotechar='|')\n",
    "    next(reader)\n",
    "    mapper = map(lambda x: tree(int(x[0]), float(x[1]), int(x[2]), float(x[3])), reader)\n",
    "    \n",
    "    # Filter out trees with height less than 75 feet. Getting only the taller ones.\n",
    "    t = filter(lambda p: p[2] > 75, mapper)\n",
    "    trees = tuple(t)\n",
    "\n",
    "    # Look for the widest tree in the list of trees. \n",
    "    widest = reduce(lambda x, y: x if x.width > y.width else y, trees)\n",
    "    print(widest)"
   ]
  }
 ],
 "metadata": {
  "language_info": {
   "name": "python"
  }
 },
 "nbformat": 4,
 "nbformat_minor": 5
}
