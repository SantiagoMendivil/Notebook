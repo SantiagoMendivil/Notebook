{
 "cells": [
  {
   "cell_type": "markdown",
   "metadata": {},
   "source": [
    "# Importing data from a CSV file\n",
    "Functional programming is widely applicable in the data science domain as higher-order functions can be used to process data files efficiently. The data used in this file is retrieved from `data_from_csv.csv`. First open the file with csv:"
   ]
  },
  {
   "cell_type": "code",
   "execution_count": null,
   "metadata": {},
   "outputs": [],
   "source": [
    "import csv\n",
    "\n",
    "with open(\"data/data_from_csv.csv\", newline=\"\") as csvfile:\n",
    "    reader = csv.reader(csvfile, delimiter=\",\", quotechar=\"|\")"
   ]
  },
  {
   "cell_type": "markdown",
   "metadata": {},
   "source": [
    "When opening the csv, we have to specify: \n",
    "- **newline**: aside with the file read marking when to mark a new line in the file\n",
    "- **delimiter**: to find where a new value is marked, in this case, separated by a comma\n",
    "- **quotechar**: to delimit when to find quotes \n",
    "\n",
    "We should use `next(reader)` in order to improve the performance of reading the file. Also create a namedtuple in order to represent each record. "
   ]
  },
  {
   "cell_type": "code",
   "execution_count": null,
   "metadata": {},
   "outputs": [],
   "source": [
    "from collections import namedtuple\n",
    "\n",
    "tree = namedtuple(\"tree\", [\"index\", \"width\", \"height\", \"volume\"])"
   ]
  },
  {
   "cell_type": "markdown",
   "metadata": {},
   "source": [
    "We then want to create an iterator called mapper that will curiously map the records to tuples of type tree. "
   ]
  },
  {
   "cell_type": "code",
   "execution_count": null,
   "metadata": {},
   "outputs": [],
   "source": [
    "with open(\"data_from_csv.csv\", newline=\"\") as csvfile:\n",
    "    reader = csv.reader(csvfile, delimiter=\",\", quotechar=\"|\")\n",
    "    next(reader)\n",
    "    \n",
    "    mapper = map(lambda x: tree(\n",
    "                                int(x[0]),\n",
    "                                float(x[1]),\n",
    "                                int(x[2]),\n",
    "                                float(x[3]),\n",
    "                                reader \n",
    "                                ))\n",
    "    trees = tuple(mapper)\n",
    "    print(trees)"
   ]
  }
 ],
 "metadata": {
  "language_info": {
   "name": "python"
  }
 },
 "nbformat": 4,
 "nbformat_minor": 2
}
