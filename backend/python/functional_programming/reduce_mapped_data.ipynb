{
 "cells": [
  {
   "cell_type": "markdown",
   "metadata": {},
   "source": [
    "# Reducing a Mapped Collection\n",
    "We would consider this functionality when, for example, having a dictionaty that represents a cost of an item, where in the dictionaty, it has a list of times sold for some days. Like the following code: "
   ]
  },
  {
   "cell_type": "code",
   "execution_count": null,
   "metadata": {},
   "outputs": [],
   "source": [
    "from functools import reduce\n",
    "\n",
    "fruits = {\n",
    "    \"Grape\":(4, 6, 2), \n",
    "    \"Lemon\":(7, 3, 1), \n",
    "    \"Orange\":(5, 8, 1), \n",
    "    \"Apple\":(2, 8, 10), \n",
    "    \"Watermelon\":(0, 9, 6)   \n",
    "}"
   ]
  },
  {
   "cell_type": "markdown",
   "metadata": {},
   "source": [
    "What if we want to find the total cost of all items sold? We could easily loop through the items of the dictionary and calculate it manually, but we should use:"
   ]
  },
  {
   "cell_type": "code",
   "execution_count": null,
   "metadata": {},
   "outputs": [],
   "source": [
    "total_fruits = reduce(lambda x, y: x + y, \n",
    "                      map(lambda q: fruits[q][0] + fruits[q][1] + fruits[q][2], fruits))\n",
    "print(total_fruits)"
   ]
  }
 ],
 "metadata": {
  "language_info": {
   "name": "python"
  }
 },
 "nbformat": 4,
 "nbformat_minor": 2
}
