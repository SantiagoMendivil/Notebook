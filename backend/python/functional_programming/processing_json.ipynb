{
 "cells": [
  {
   "cell_type": "markdown",
   "id": "a6e5b791",
   "metadata": {},
   "source": [
    "# Processing data from JSON files\n",
    "The JSON format is the preferred way to structure data such that it may be transmitted over the internet. Unlike a CSV file, we cannot use an iterator when we read data from a JSON. Read a JSON file as it follows: "
   ]
  },
  {
   "cell_type": "code",
   "execution_count": null,
   "id": "450dc613",
   "metadata": {},
   "outputs": [],
   "source": [
    "import json\n",
    "\n",
    "with open('data/data.json') as f:\n",
    "    data = json.load(f)"
   ]
  },
  {
   "cell_type": "markdown",
   "id": "79febd0b",
   "metadata": {},
   "source": [
    "The data i'm using for this file is set in this format: \n",
    "\n",
    "```json\n",
    "{\"city\":[{\"name\": \"name_of_city\", \"country\": \"country_of_city\", \"coordinates\":[latitude, longitude], \"continent\":\"continent_of_city\"}...]}.\n",
    "```\n",
    "So basicaly it could be hard to read and suceptible to error when using it. It would be better to use map() to store it as a named tuple object"
   ]
  },
  {
   "cell_type": "code",
   "execution_count": null,
   "id": "4f90b72d",
   "metadata": {},
   "outputs": [],
   "source": [
    "import json \n",
    "from collections import namedtuple\n",
    "from functools import reduce\n",
    "\n",
    "city = namedtuple('city', ['name', 'country', 'coordinates', 'continent'])\n",
    "\n",
    "with open('data/cities.json') as f:\n",
    "    cities = json.load(f) # Data with the format from above\n",
    "    \n",
    "cities_list = data['city']\n",
    "cities = map(lambda x: city(x['name']l, x['country'], x['coordinates'], x['continent']), cities_list) # Named tuple object"
   ]
  },
  {
   "cell_type": "markdown",
   "id": "15c515d4",
   "metadata": {},
   "source": [
    "What if we want to find all the cities in asia and find the one that is the western-most of the continent (Being the one with the lowest longitude in its coordinates)"
   ]
  },
  {
   "cell_type": "code",
   "execution_count": null,
   "id": "216bf557",
   "metadata": {},
   "outputs": [],
   "source": [
    "a = filter(lambda x: x.continent == 'Asia', cities) # Get all cities in Asia\n",
    "asia_cities = tuple(a)\n",
    "\n",
    "w = reduce(lambda x, y: x if x.coordinates[1] < y.coordinates[1] else y, asia_cities) # Get the city with the lowest latitude in Asia\n",
    "westernmost_city = tuple(w)"
   ]
  }
 ],
 "metadata": {
  "language_info": {
   "name": "python"
  }
 },
 "nbformat": 4,
 "nbformat_minor": 5
}
