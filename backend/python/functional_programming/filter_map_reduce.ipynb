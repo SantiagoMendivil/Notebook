{
 "cells": [
  {
   "cell_type": "markdown",
   "metadata": {},
   "source": [
    "# Filter, map and reduce methods\n",
    "\n",
    "## Filter\n",
    "As its name says, it filters elements from a data structure that meet certain condition."
   ]
  },
  {
   "cell_type": "code",
   "execution_count": 2,
   "metadata": {},
   "outputs": [
    {
     "name": "stdout",
     "output_type": "stream",
     "text": [
      "(4, 10, 16, 22, 28, 34, 40, 46, 52, 58, 64, 70, 76, 82, 88, 94, 100)\n"
     ]
    }
   ],
   "source": [
    "nums = (i for i in range(1, 101, 3))\n",
    "\n",
    "filtered_nums = filter(\n",
    "    lambda x: x % 2 == 0, nums\n",
    ")\n",
    "print(tuple(filtered_nums))"
   ]
  },
  {
   "cell_type": "markdown",
   "metadata": {},
   "source": [
    "## Map\n",
    "The map applies a function to all the numbers in a data structure."
   ]
  },
  {
   "cell_type": "code",
   "execution_count": 5,
   "metadata": {},
   "outputs": [
    {
     "name": "stdout",
     "output_type": "stream",
     "text": [
      "(3, 12, 21, 30, 39, 48, 57, 66, 75, 84, 93, 102, 111, 120, 129, 138, 147, 156, 165, 174, 183, 192, 201, 210, 219, 228, 237, 246, 255, 264, 273, 282, 291, 300)\n"
     ]
    }
   ],
   "source": [
    "nums = (i for i in range(1, 101, 3))\n",
    "\n",
    "mapped_numbers = map(\n",
    "  lambda x: x * 3, nums\n",
    ")\n",
    "print(tuple(mapped_numbers))"
   ]
  },
  {
   "cell_type": "markdown",
   "metadata": {},
   "source": [
    "## Reduce\n",
    "The reduce converts a complete data structure into one single value, reducing the size to one"
   ]
  },
  {
   "cell_type": "code",
   "execution_count": 6,
   "metadata": {},
   "outputs": [
    {
     "name": "stdout",
     "output_type": "stream",
     "text": [
      "1717\n"
     ]
    }
   ],
   "source": [
    "from functools import reduce \n",
    "\n",
    "nums = (i for i in range(1, 101, 3))\n",
    "sum_nums = reduce (\n",
    "    lambda x, y: x + y, nums\n",
    ")\n",
    "\n",
    "print(sum_nums)"
   ]
  }
 ],
 "metadata": {
  "kernelspec": {
   "display_name": "Python 3",
   "language": "python",
   "name": "python3"
  },
  "language_info": {
   "codemirror_mode": {
    "name": "ipython",
    "version": 3
   },
   "file_extension": ".py",
   "mimetype": "text/x-python",
   "name": "python",
   "nbconvert_exporter": "python",
   "pygments_lexer": "ipython3",
   "version": "3.11.9"
  }
 },
 "nbformat": 4,
 "nbformat_minor": 2
}
