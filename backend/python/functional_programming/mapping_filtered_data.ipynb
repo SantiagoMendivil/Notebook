{
 "cells": [
  {
   "cell_type": "markdown",
   "metadata": {},
   "source": [
    "# Mapping a filtered collection\n",
    "This functionality works when we need to \"Implement a functionality into the values that meet this filter\". In that case we can join the map and filter methods. "
   ]
  },
  {
   "cell_type": "code",
   "execution_count": null,
   "metadata": {},
   "outputs": [
    {
     "name": "stdout",
     "output_type": "stream",
     "text": [
      "(21.25, 27.2, 38.25, 25.5)\n"
     ]
    }
   ],
   "source": [
    "# Multiply by 0.15 of discount to every product with price more than 20 dollars\n",
    "prices = [25, 32, 14, 8, 19, 45, 12, 5, 30]\n",
    "\n",
    "discounted_prices = tuple(map(lambda price: price * 0.85, filter(lambda price: price > 20, prices)))\n",
    "print(discounted_prices)"
   ]
  }
 ],
 "metadata": {
  "kernelspec": {
   "display_name": "Python 3",
   "language": "python",
   "name": "python3"
  },
  "language_info": {
   "codemirror_mode": {
    "name": "ipython",
    "version": 3
   },
   "file_extension": ".py",
   "mimetype": "text/x-python",
   "name": "python",
   "nbconvert_exporter": "python",
   "pygments_lexer": "ipython3",
   "version": "3.11.9"
  }
 },
 "nbformat": 4,
 "nbformat_minor": 2
}
