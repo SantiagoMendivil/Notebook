{
 "cells": [
  {
   "cell_type": "markdown",
   "metadata": {},
   "source": [
    "# Combining all three Higher-Order functions\n",
    "A reason for combining filter(), reduce() and map() is when we need to: \n",
    "\n",
    "Filter a collection before you map it and then reduce it to a single number. \n",
    "A first example for this is when, for example, having a dictionary of products, the total amount of items sold and the price of the item. With this in mind, we can find the total sum of prices of items that have been sold for less than $150. By doing this we would look for: \n",
    "\n",
    "- First map the items their individual cost (number of items * price per unit)\n",
    "- Then eliminate (filter) all the items that cost more than $150\n",
    "- Then reduce the individual costs to a single value that represents the total cost."
   ]
  },
  {
   "cell_type": "code",
   "execution_count": null,
   "metadata": {},
   "outputs": [],
   "source": [
    "from functools import reduce\n",
    "\n",
    "costs = {\n",
    "    \"shirt\": (4, 13.00), \n",
    "    \"shoes\":(2, 80.00), \n",
    "    \"pants\":(3, 100.00), \n",
    "    \"socks\":(5, 5.00), \n",
    "    \"ties\":(3, 14.00), \n",
    "    \"watch\":(1, 145.00)\n",
    "}\n",
    "\n",
    "# Separate methods\n",
    "total = map(lambda x: costs[x][0] * costs[x][1], costs)\n",
    "total_filtered = filter(lambda x: x <= 150, total)\n",
    "total_reduced = reduce(lambda x, y: x + y), total_filtered\n",
    "\n",
    "# Combined\n",
    "total_sold = reduce(lambda x, y: x + y, \n",
    "                    filter(lambda z: z <= 150),\n",
    "                    map(lambda q: costs[q][0] * costs[q][1]), costs)\n",
    "print(total_sold)"
   ]
  },
  {
   "cell_type": "markdown",
   "metadata": {},
   "source": [
    "Another example could be, in a list of numbers, find all the numbers less than 10, and add 5 to that numbers to finally sum them all."
   ]
  },
  {
   "cell_type": "code",
   "execution_count": null,
   "metadata": {},
   "outputs": [],
   "source": [
    "nums = (24, 6, 7, 16, 8, 2, 3, 11, 21, 20, 22, 23, 19, 12, 1, 4, 17, 9, 25, 15)\n",
    "\n",
    "product = reduce(lambda x, y: x * y, \n",
    "                map(lambda x: x + 5, \n",
    "                filter(lambda x: x < 10, nums)))\n",
    "print(product)\n"
   ]
  }
 ],
 "metadata": {
  "language_info": {
   "name": "python"
  }
 },
 "nbformat": 4,
 "nbformat_minor": 2
}
