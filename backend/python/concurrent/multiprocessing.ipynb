{
 "cells": [
  {
   "cell_type": "markdown",
   "id": "2d8b63c0",
   "metadata": {},
   "source": [
    "# Multiprocessing Module\n",
    "This module allows the user to leverage multiple processors on a given machine simultaneously. This is powered by subprocesses. \n",
    "\n",
    "The approach is similar to threads. "
   ]
  },
  {
   "cell_type": "code",
   "execution_count": null,
   "id": "c564b0f2",
   "metadata": {},
   "outputs": [],
   "source": [
    "import multiprocessing\n",
    "\n",
    "p = multiprocessing.Process(target=lambda: None, args=(1, 2, 3))\n",
    "p.start()"
   ]
  },
  {
   "cell_type": "markdown",
   "id": "25c075a3",
   "metadata": {},
   "source": [
    "# Using Multiple Processes\n",
    "We can make the multiple processes approach by following a similar logic as the threading module"
   ]
  },
  {
   "cell_type": "code",
   "execution_count": null,
   "id": "33c9290f",
   "metadata": {},
   "outputs": [],
   "source": [
    "import time\n",
    "import multiprocessing\n",
    "\n",
    "def greeting_with_sleep(string):\n",
    "    print(string)\n",
    "    time.sleep(2)\n",
    "    print(string + \" says hello!\")\n",
    "\n",
    "\n",
    "def main_multiprocessing():\n",
    "    s = time.perf_counter()\n",
    "    processes = []\n",
    "    greetings = ['Codecademy', 'Chelsea', 'Hisham', 'Ashley']\n",
    "    # add your code here\n",
    "    for greet in greetings:\n",
    "        p = multiprocessing.Process(target=greeting_with_sleep, args=(greet,))\n",
    "        processes.append(p)\n",
    "        p.start()\n",
    "        \n",
    "    \"\"\" \n",
    "        This can also be done with:\n",
    "        processes = [multiprocessing.Process(target=greeting_with_sleep, args=(greet,)) for greet in greetings]\n",
    "    \"\"\"\n",
    "\n",
    "    for process in processes:\n",
    "        process.join()\n",
    "\n",
    "    elapsed = time.perf_counter() - s\n",
    "    print(\"Multiprocessing Elapsed Time: \" + str(elapsed) + \" seconds\")\n",
    "\n",
    "main_multiprocessing()\n"
   ]
  }
 ],
 "metadata": {
  "language_info": {
   "name": "python"
  }
 },
 "nbformat": 4,
 "nbformat_minor": 5
}
