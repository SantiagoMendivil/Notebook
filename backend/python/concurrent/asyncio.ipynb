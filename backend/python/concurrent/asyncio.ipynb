{
 "cells": [
  {
   "cell_type": "markdown",
   "id": "70e40112",
   "metadata": {},
   "source": [
    "# Asyncio Module\n",
    "Another concurrent module. The asyncio module uses async/await syntax. These are two keywords that allow you to build and execute aynchronous code in our programs. \n",
    "\n",
    "The async keyword declares a function as a coroutine. These are functions that may return normally with a value or may suspend themselves internally and return a continuation. \n",
    "\n",
    "The await keyword suspends execution of the current task until whatever is being awaited on is completed. For example, if we have an await function task2 within a coroutine task1 this tells python to suspend task 1 until task 2 is completed"
   ]
  },
  {
   "cell_type": "code",
   "execution_count": null,
   "id": "72e3a7ef",
   "metadata": {},
   "outputs": [],
   "source": [
    "import time \n",
    "import asyncio\n",
    "\n",
    "async def greeting_task(name):\n",
    "    s = time.perf_counter()\n",
    "    print(f\"Hello {name}, I am a coroutine!\")\n",
    "    await asyncio.sleep(2)  # Simulate a non-blocking operation\n",
    "    print(f\"Goodbye {name}, I am a coroutine!\")\n",
    "    e = time.perf_counter() - 5\n",
    "    print(f\"Task {name} took {e:.2f} seconds\")\n",
    "    \n",
    "loop = asyncio.get_event_loop()\n",
    "loop.run_until_complete(greeting_task(\"World\"))"
   ]
  },
  {
   "cell_type": "markdown",
   "id": "2d0993d3",
   "metadata": {},
   "source": [
    "# Multiple Asynchronous Tasks\n",
    "In order to run multiple tasks we can do a setup similar to the threads."
   ]
  },
  {
   "cell_type": "code",
   "execution_count": null,
   "id": "ac2f8c3d",
   "metadata": {},
   "outputs": [],
   "source": [
    "async def main():\n",
    "    tasks = [task1(arg1), task2(arg2), task3(arg3)]\n",
    "    await asyncio.gather(*tasks)"
   ]
  },
  {
   "cell_type": "markdown",
   "id": "16f71fec",
   "metadata": {},
   "source": [
    "The asyncio.gather groups all of our tasks together and allows them to be run concurrently. It must have the await syntax. We use * before tasks to unpack the list. "
   ]
  },
  {
   "cell_type": "code",
   "execution_count": null,
   "id": "92c67056",
   "metadata": {},
   "outputs": [],
   "source": [
    "import time\n",
    "import asyncio\n",
    "\n",
    "async def greeting_with_sleep_async(string):\n",
    "    print(string)\n",
    "    await asyncio.sleep(2)\n",
    "    print(string + \" says hello!\")\n",
    "\n",
    "\n",
    "async def main_async():\n",
    "    s = time.perf_counter()\n",
    "    greetings = [greeting_with_sleep_async('Codecademy'), greeting_with_sleep_async('Chelsea'), greeting_with_sleep_async('Hisham'), greeting_with_sleep_async('Ashley')]\n",
    "    await asyncio.gather(*greetings)\n",
    "\n",
    "\n",
    "    elapsed = time.perf_counter() - s\n",
    "    print(\"Asyncio Elapsed Time: \" + str(elapsed) + \" seconds\")\n",
    "\n",
    "main_async()\n",
    "loop = asyncio.get_event_loop()\n",
    "loop.run_until_complete(main_async())"
   ]
  }
 ],
 "metadata": {
  "kernelspec": {
   "display_name": "Python 3",
   "language": "python",
   "name": "python3"
  },
  "language_info": {
   "codemirror_mode": {
    "name": "ipython",
    "version": 3
   },
   "file_extension": ".py",
   "mimetype": "text/x-python",
   "name": "python",
   "nbconvert_exporter": "python",
   "pygments_lexer": "ipython3",
   "version": "3.11.9"
  }
 },
 "nbformat": 4,
 "nbformat_minor": 5
}
