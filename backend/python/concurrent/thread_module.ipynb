{
 "cells": [
  {
   "cell_type": "markdown",
   "id": "b1cf01a0",
   "metadata": {},
   "source": [
    "# Threading module\n",
    "A **thread** is a unique flow of execution. Theoretically, multiple threads mean the ability to run multiple things at the same time. \n",
    "\n",
    "To create a thread instance in Python, we use: "
   ]
  },
  {
   "cell_type": "code",
   "execution_count": null,
   "id": "1bca9572",
   "metadata": {},
   "outputs": [],
   "source": [
    "import threading\n",
    "\n",
    "thread = threading.Thread(target=\"function\", args=(1, 2, 3))"
   ]
  },
  {
   "cell_type": "markdown",
   "id": "9b192dec",
   "metadata": {},
   "source": [
    "The two main parameters are: \n",
    "- **target**: This is the function you want to execute with threads. It defaults to None. \n",
    "- **args**: This is the argument or set of arguments applied to the target function. It is a tuple and defaults to None. \n",
    "\n",
    "After creating our thread instance, we also have to \"start\" ourt thread using `.start()`. "
   ]
  },
  {
   "cell_type": "markdown",
   "id": "d77dde73",
   "metadata": {},
   "source": [
    "# Using Multiple Threads \n",
    "We can create the threads in a list in order to keep track of our threads. "
   ]
  },
  {
   "cell_type": "code",
   "execution_count": 1,
   "id": "6a6f8131",
   "metadata": {},
   "outputs": [
    {
     "name": "stdout",
     "output_type": "stream",
     "text": [
      "Hello, Alice!\n",
      "Hello, Bob!\n",
      "Hello, Charlie!\n",
      "Elapsed time: 0.01 seconds\n"
     ]
    },
    {
     "name": "stdout",
     "output_type": "stream",
     "text": [
      "Goodbye, Alice!\n",
      "Goodbye, Bob!\n",
      "Goodbye, Charlie!\n"
     ]
    }
   ],
   "source": [
    "import time\n",
    "import threading\n",
    "\n",
    "def greeting_function(name):\n",
    "    print(f\"Hello, {name}!\")\n",
    "    time.sleep(2)\n",
    "    print(f\"Goodbye, {name}!\")\n",
    "    \n",
    "def main_threading():\n",
    "    s = time.perf_counter()\n",
    "    names = [\"Alice\", \"Bob\", \"Charlie\"]\n",
    "    for name in names:\n",
    "        t = threading.Thread(target=greeting_function, args=(name,))\n",
    "        t.start()\n",
    "        \n",
    "    elapsed = time.perf_counter() - s\n",
    "    print(f\"Elapsed time: {elapsed:.2f} seconds\")\n",
    "    \n",
    "main_threading()"
   ]
  },
  {
   "cell_type": "markdown",
   "id": "82900201",
   "metadata": {},
   "source": [
    "When running that code, we can notice that each thread was started, but python itself is waiting for the last thread to finish before terminating. When the main_treading() is completed then the greeting will be executed as the final thread."
   ]
  },
  {
   "cell_type": "markdown",
   "id": "ae67833e",
   "metadata": {},
   "source": [
    "# Joining a Thread\n",
    "We can use the `.join()` to tell one thread to wait for this thread to stop before moving on. \n",
    "In the approach of above we would do:"
   ]
  },
  {
   "cell_type": "code",
   "execution_count": null,
   "id": "c4ef8592",
   "metadata": {},
   "outputs": [],
   "source": [
    "threads = [threading.Thread(target=greeting_function, args=(name,)) for name in [\"Alice\", \"Bob\", \"Charlie\"]]\n",
    "for t in threads:\n",
    "    t.join()"
   ]
  },
  {
   "cell_type": "markdown",
   "id": "b72a0231",
   "metadata": {},
   "source": [
    "For example, adding this join to the code we made before, it would be:"
   ]
  },
  {
   "cell_type": "code",
   "execution_count": 2,
   "id": "6557ddf6",
   "metadata": {},
   "outputs": [
    {
     "name": "stdout",
     "output_type": "stream",
     "text": [
      "Codecademy\n",
      "Chelsea\n",
      "Hisham\n",
      "Ashley\n",
      "says hello!\n",
      "says hello!\n",
      "says hello!\n",
      "says hello!\n",
      "Threading Elapsed Time: 2.015754100168124 seconds\n"
     ]
    }
   ],
   "source": [
    "import time\n",
    "import threading\n",
    "def greeting_with_sleep(string):\n",
    "    print(string)\n",
    "    time.sleep(2)\n",
    "    print(\"says hello!\")\n",
    "\n",
    "\n",
    "def main_threading():\n",
    "    s = time.perf_counter()\n",
    "    threads = []\n",
    "    greetings = ['Codecademy', 'Chelsea', 'Hisham', 'Ashley']\n",
    "    for i in range(len(greetings)):\n",
    "        t = threading.Thread    (target=greeting_with_sleep, args=(greetings[i],)) \n",
    "        t.start()\n",
    "        # add append code here\n",
    "        threads.append(t)\n",
    "\n",
    "    # add join code here\n",
    "    for thread in threads:\n",
    "        thread.join()\n",
    "\n",
    "\n",
    "    elapsed = time.perf_counter() - s\n",
    "    print(\"Threading Elapsed Time: \" + str(elapsed) + \" seconds\")\n",
    "\n",
    "main_threading()\n"
   ]
  },
  {
   "cell_type": "markdown",
   "id": "3ba9bc55",
   "metadata": {},
   "source": [
    "When using join, the method main_threading does not complete until each thread has been executed. Therefore we get a more accurate measurement of two seconds. And if we tried to run the instances individually it would have been 8 seconds.  "
   ]
  }
 ],
 "metadata": {
  "kernelspec": {
   "display_name": "Python 3",
   "language": "python",
   "name": "python3"
  },
  "language_info": {
   "codemirror_mode": {
    "name": "ipython",
    "version": 3
   },
   "file_extension": ".py",
   "mimetype": "text/x-python",
   "name": "python",
   "nbconvert_exporter": "python",
   "pygments_lexer": "ipython3",
   "version": "3.11.9"
  }
 },
 "nbformat": 4,
 "nbformat_minor": 5
}
