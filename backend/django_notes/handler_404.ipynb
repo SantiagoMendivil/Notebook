{
 "cells": [
  {
   "cell_type": "markdown",
   "metadata": {},
   "source": [
    "# Handling 404 pages\n",
    "When encountering a 404 page, usually it redirects you to an error page where it justs displays all the possible urls. In order to handle this error you must: \n",
    "\n",
    "1. Generate a views.py at the project directory in order to be accessible by all the applications\n",
    "2. Generate the code"
   ]
  },
  {
   "cell_type": "code",
   "execution_count": null,
   "metadata": {},
   "outputs": [],
   "source": [
    "#urls.py\n",
    "from django.urls import path, include\n",
    "from . import views\n",
    "\n",
    "urlpatterns = [\n",
    "    path('admin/', admin.site.urls),\n",
    "]\n",
    "\n",
    "# Outside the urlpatterns define another pattern \n",
    "handler404 = 'myproject.views.handler404'"
   ]
  },
  {
   "cell_type": "code",
   "execution_count": null,
   "metadata": {},
   "outputs": [],
   "source": [
    "# views.py\n",
    "from django.http import HttpResponse\n",
    "\n",
    "def handler404(request, exception):\n",
    "    return HttpResponse(\"404 Page Not Found\", status=404)"
   ]
  },
  {
   "cell_type": "markdown",
   "metadata": {},
   "source": [
    "# Exception examples\n",
    "## FieldDoesNotExist"
   ]
  },
  {
   "cell_type": "code",
   "execution_count": null,
   "metadata": {},
   "outputs": [],
   "source": [
    "from django.core.exceptions import FieldDoesNotExist, PermissionDenied\n",
    "\n",
    "def handle_field(request):\n",
    "    try:\n",
    "        field = model._meta.get_field(field_name)\n",
    "    except FieldDoesNotExist:\n",
    "        return HttpResponse(\"Field does not exist\")"
   ]
  },
  {
   "cell_type": "markdown",
   "metadata": {},
   "source": [
    "## PermissionDenied"
   ]
  },
  {
   "cell_type": "code",
   "execution_count": null,
   "metadata": {},
   "outputs": [],
   "source": [
    "def myView(request):\n",
    "    if not request.user.has_perm('myapp.view_mymodel'):\n",
    "        raise PermissionDenied()\n",
    "    return HttpResponse()"
   ]
  },
  {
   "cell_type": "markdown",
   "metadata": {},
   "source": [
    "## Valid forms"
   ]
  },
  {
   "cell_type": "code",
   "execution_count": null,
   "metadata": {},
   "outputs": [],
   "source": [
    "def myview(request):\n",
    "    if request.method == 'POST':\n",
    "        form = MyForm(request.POST)\n",
    "        if form.is_valid():\n",
    "            # process the data in form.cleaned_data\n",
    "            pass\n",
    "        else:\n",
    "            return HttpResponse(\"Form is invalid\")\n"
   ]
  }
 ],
 "metadata": {
  "language_info": {
   "name": "python"
  }
 },
 "nbformat": 4,
 "nbformat_minor": 2
}
