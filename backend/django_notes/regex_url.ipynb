{
 "cells": [
  {
   "cell_type": "markdown",
   "metadata": {},
   "source": [
    "# URL handling with Regular Expressions in Django\n",
    "## What are regular expressions? \n",
    "Regular expressions or regex are powerful text-matching patterns that allow you to search, match, and manipulate strings based on specific rules. They're like a super-charged search and replace tool that can recognize complex patterns in text\n",
    "\n",
    "## Basic concepts\n",
    "- `.` Matches any signle character\n",
    "- `*` Matches zero or more of the preceding character\n",
    "- `+` Matches one or more of the preceding character \n",
    "- `^` Matches the end of a string\n",
    "- `\\d` Matches any digit\n",
    "- `\\w` Matches any alphanumeric character\n",
    "- `[]` Defines a character set \n",
    "- `()` Creates a capture group \n",
    "\n",
    "## URLs in Django"
   ]
  },
  {
   "cell_type": "code",
   "execution_count": null,
   "metadata": {},
   "outputs": [],
   "source": [
    "from django.urls import path, re_path\n",
    "from . import views \n",
    "\n",
    "urlpatterns = [\n",
    "    re_path(r'^users/(?P<user_id>\\d+)/$', views.user_detail, name='user_detail'),\n",
    "]"
   ]
  },
  {
   "cell_type": "markdown",
   "metadata": {},
   "source": [
    "# User profile URLs"
   ]
  },
  {
   "cell_type": "code",
   "execution_count": null,
   "metadata": {},
   "outputs": [],
   "source": [
    "re_path(r'^profile/(?P<username>[\\w.@+-]+)/$', views.user_profile, name='user_profile'),"
   ]
  },
  {
   "cell_type": "markdown",
   "metadata": {},
   "source": [
    "The section `[\\w.@+-]+` allows usernames with letters, numbers and some special characters. Also prevents injection of unwanted URL segments. "
   ]
  },
  {
   "cell_type": "markdown",
   "metadata": {},
   "source": [
    "# Complex parameter validation"
   ]
  },
  {
   "cell_type": "code",
   "execution_count": null,
   "metadata": {},
   "outputs": [],
   "source": [
    "re_path(r'^products/(?P<category>electronics|clothing)/(?P<price>\\d{1,4})/$', views.products, name='products'),"
   ]
  },
  {
   "cell_type": "markdown",
   "metadata": {},
   "source": [
    "Limits category to specific strings, and ensures the price is a 1-4 digit number. "
   ]
  },
  {
   "cell_type": "markdown",
   "metadata": {},
   "source": [
    "# Specific differences between regex and common url dynamic routing\n",
    "1. **Type validation**: \n",
    "   1. Path converter: Using `<int:user_id`, we automatically ensure a numeric input. \n",
    "   2. Regex: Using `\\d{5, 10}`, we can specify exact digit range, in this case is for 5 to 10 digits.\n",
    "2. **Complexity**:\n",
    "   1. Path converter: Using `<slug:username` works for basic slugs. \n",
    "   2. Regex: `[\\w-]{3, 50}` allows precise slug formatting rules. \n",
    "3. **Flexibility**:\n",
    "   1. Path converter: Limited to built-in converters. \n",
    "   2. Regex: Can create custom, complex matching patterns. "
   ]
  }
 ],
 "metadata": {
  "language_info": {
   "name": "python"
  }
 },
 "nbformat": 4,
 "nbformat_minor": 2
}
