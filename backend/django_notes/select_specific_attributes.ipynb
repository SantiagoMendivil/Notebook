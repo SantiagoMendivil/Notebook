{
 "cells": [
  {
   "cell_type": "markdown",
   "metadata": {},
   "source": [
    "# Select specific attributes from models\n",
    "When trying to select a specific value for all the instances of a model we can use the following code. Suppose you have the following notification model: "
   ]
  },
  {
   "cell_type": "code",
   "execution_count": null,
   "metadata": {},
   "outputs": [],
   "source": [
    "from django.db import models\n",
    "from django.contrib.auth.models import User, Group\n",
    "from django.utils import timezone\n",
    "from django.core.exceptions import ValidationError\n",
    "from django.contrib.contenttypes.models import ContentType\n",
    "from django.contrib.contenttypes.fields import GenericForeignKey\n",
    "\n",
    "# Create your models here.\n",
    "class Notification(models.Model):\n",
    "    \"\"\"Model for notifications\n",
    "\n",
    "    Args:\n",
    "        models (Model): Models django class\n",
    "    \"\"\"\n",
    "    NOTIFICATIONS_TYPE = [\n",
    "        (\"user\", \"User\"), \n",
    "        (\"group\", \"Group\"),\n",
    "    ]\n",
    "\n",
    "    sender = models.ForeignKey(User, on_delete=models.SET_NULL, null=True, related_name=\"sent_notifications\") \n",
    "    notification_type = models.CharField(max_length=15, choices=NOTIFICATIONS_TYPE)\n",
    "    user_target = models.ForeignKey(User, on_delete=models.CASCADE, null=True, blank=True, related_name=\"notifications\")\n",
    "    group_target = models.ForeignKey(Group, on_delete=models.CASCADE, null=True, blank=True, related_name=\"group_notifications\")    \n",
    "    notification_date = models.DateTimeField(auto_now_add=True)\n",
    "    is_read = models.BooleanField(default=False) \n",
    "    application = models.CharField(max_length=255)\n",
    "    url = models.CharField(max_length=500, null=True, blank=True)\n",
    "    message = models.CharField(max_length=255, null=True, blank=True)\n",
    "    is_read_from_windows = models.BooleanField(default=False)\n",
    "    deleted = models.BooleanField(default=False)\n",
    "    \n",
    "    # Generic relationship to any model in the techtool \n",
    "    content_type = models.ForeignKey(ContentType, on_delete=models.CASCADE, null=True, blank=True)\n",
    "    object_id = models.PositiveIntegerField(null=True, blank=True)\n",
    "    content_object = GenericForeignKey('content_type', 'object_id')\n",
    "    \n",
    "    def is_recent(self):\n",
    "        \"\"\"Checks if the notification is less than 2 days\n",
    "        \"\"\"\n",
    "        return timezone.now() - self.notification_date <= timezone.timedelta(days=2)\n",
    "\n",
    "    def __str__(self):\n",
    "        target = self.user_target.first_name if self.user_target else self.group_target.name\n",
    "        return f\"Notification from {self.sender} to {target}\" \n",
    "    \n",
    "    def clean(self):\n",
    "        if not self.user_target and not self.group_target:\n",
    "            raise ValidationError(\"The notification must be either a user or group as target\")\n",
    "    \n",
    "    class Meta:\n",
    "        ordering = ['-notification_date']\n",
    "        verbose_name = 'Notification'\n",
    "        verbose_name_plural = 'Notifications'\n",
    "        \n",
    "        \n",
    "    \n"
   ]
  },
  {
   "cell_type": "markdown",
   "metadata": {},
   "source": [
    "## Select specific values for the object id"
   ]
  },
  {
   "cell_type": "code",
   "execution_count": null,
   "metadata": {},
   "outputs": [],
   "source": [
    "def select_object_ids(request):\n",
    "    current_notifications = Notification.objects.filter(\n",
    "        user=request.user, application=\"gojo\"\n",
    "    ).values_list('object_id', flat=True)\n",
    "    return current_notifications"
   ]
  },
  {
   "cell_type": "markdown",
   "metadata": {},
   "source": [
    "## Select unique elements"
   ]
  },
  {
   "cell_type": "code",
   "execution_count": null,
   "metadata": {},
   "outputs": [],
   "source": [
    "def select_unique_elements(request):\n",
    "    current_notifications = Notification.objects.filter(\n",
    "        user=request.user, application=\"gojo\"\n",
    "    ).values_list('object_id', flat=True)\n",
    "    unique_ids = list(set(current_notifications))\n",
    "    return unique_ids"
   ]
  }
 ],
 "metadata": {
  "language_info": {
   "name": "python"
  }
 },
 "nbformat": 4,
 "nbformat_minor": 2
}
