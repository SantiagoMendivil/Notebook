{
 "cells": [
  {
   "cell_type": "markdown",
   "metadata": {},
   "source": [
    "# Render error pages for the website\n",
    "## Configuration\n",
    "In urls.py configurate the handlers for each of the views assigning to the handler the route to the method that is responsible for rendering the error page. For example: "
   ]
  },
  {
   "cell_type": "code",
   "execution_count": null,
   "metadata": {},
   "outputs": [],
   "source": [
    "handler403 = 'app.views.handler403'\n",
    "handler404 = 'app.views.handler404'\n",
    "handler500 = 'app.views.handler500'"
   ]
  },
  {
   "cell_type": "markdown",
   "metadata": {},
   "source": [
    "## Generate the views.py methods"
   ]
  },
  {
   "cell_type": "code",
   "execution_count": null,
   "metadata": {},
   "outputs": [],
   "source": [
    "from django.shortcuts import render\n",
    "def handler404(request, exception):\n",
    "    return render(request, \"404.html\", status=404)\n",
    "\n",
    "def handler500(request):\n",
    "    return render(request, \"500.html\", status=500)\n",
    "\n",
    "def handler403(request, exception):\n",
    "    return render(request, \"403.html\", status=403)"
   ]
  },
  {
   "cell_type": "markdown",
   "metadata": {},
   "source": [
    "## Generate the templates for each handler "
   ]
  },
  {
   "cell_type": "code",
   "execution_count": null,
   "metadata": {
    "vscode": {
     "languageId": "html"
    }
   },
   "outputs": [],
   "source": [
    "<!--403.html-->\n",
    "<div class=\"row align-items-center justify-content-center vh-100 rounded-3\">\n",
    "    <div class=\"col-md-5 col-lg-4 d-flex flex-column py-6 mr-5 rounded-3\">\n",
    "        <h1 class=\"mb-2 title display-6 text-body-emphasis\" style=\"font-size: 100px\">Forbidden!</h1>\n",
    "        <h6 class=\"text-bold-700 mt-5 mb-3\" style=\"font-size: 30px\">Sorry, you don't have permissions for the page or process you are looking for.</h6>\n",
    "        <ol class=\"list-group list-group-numbered\">\n",
    "            <li class=\"\">If you are sure you have the correct permissions, please contact STE team.</li>\n",
    "          </ol>\n",
    " \n",
    "        <a href=\"{% url \"index\" %}\">\n",
    "            <button class=\"button-primary w-100 mt-3 mb-2 mt-3\">Return home</button>\n",
    "        </a>\n",
    "    </div>\n",
    "    <div class=\"col-md-5 col-lg-4 d-flex flex-column py-6 ml-4\">\n",
    "        <i class=\"fa-solid fa-ban text-center\" style=\"font-size: 300px; color: #40798C\"></i> \n",
    "    </div>\n",
    "</div>\n"
   ]
  },
  {
   "cell_type": "code",
   "execution_count": null,
   "metadata": {
    "vscode": {
     "languageId": "html"
    }
   },
   "outputs": [],
   "source": [
    "<!--404.html-->\n",
    "<div class=\"row align-items-center justify-content-center vh-100 rounded-3\">\n",
    "    <div class=\"col-md-5 col-lg-4 d-flex flex-column py-6 mr-5 rounded-3\">\n",
    "        <h1 class=\"mb-2 title display-6 text-body-emphasis\" style=\"font-size: 100px\">Ooops!</h1>\n",
    "        <h6 class=\"text-bold-700 mt-5 mb-3\" style=\"font-size: 30px\">Sorry, the page you are looking for could not be found.</h6>\n",
    "        <ol class=\"list-group list-group-numbered\">\n",
    "            <li class=\"\">Check the URL for any typos or mistakes.</li>\n",
    "            <li class=\"\">Make sure the page exists.</li>\n",
    "            <li class=\"\">If you are still experiencing issues, please contact STE team.</li>\n",
    "          </ol>\n",
    " \n",
    "        <a href=\"{% url \"index\" %}\">\n",
    "            <button class=\"button-primary w-100 mt-3 mb-2 mt-3\">Return home</button>\n",
    "        </a>\n",
    "    </div>\n",
    "    <div class=\"col-md-5 col-lg-4 d-flex flex-column py-6 ml-4\">\n",
    "        <i class=\"fa-solid fa-globe text-center\" style=\"font-size: 300px; color: #40798C\"></i> \n",
    "    </div>\n",
    "</div>\n",
    "\n"
   ]
  },
  {
   "cell_type": "code",
   "execution_count": null,
   "metadata": {
    "vscode": {
     "languageId": "html"
    }
   },
   "outputs": [],
   "source": [
    "<!--500.html-->\n",
    "<div class=\"row align-items-center justify-content-center vh-100\">\n",
    "    <div class=\"col-md-5 col-lg-4 d-flex flex-column py-6 mr-5\">\n",
    "        <h1 class=\"mb-2 title display-6 text-body-emphasis\" style=\"font-size: 100px\">Something went wrong!</h1>\n",
    "        <h6 class=\"text-bold-700 mt-5 mb-3\" style=\"font-size: 30px\">The page you are looking at is because a problem with the website has occured. We are working on it.</h4>\n",
    "    </div>\n",
    "    <div class=\"col-md-5 col-lg-4 d-flex flex-column py-6 ml-4\">\n",
    "        <i class=\"fa-solid fa-user-astronaut text-center\" style=\"font-size: 300px; color: #40798C\"></i> \n",
    "    </div>\n",
    "</div>\n"
   ]
  }
 ],
 "metadata": {
  "language_info": {
   "name": "python"
  }
 },
 "nbformat": 4,
 "nbformat_minor": 2
}
