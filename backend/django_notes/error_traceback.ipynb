{
 "cells": [
  {
   "cell_type": "markdown",
   "metadata": {},
   "source": [
    "# Error 500 traceback for debugging\n",
    "In this code we try to catch the exceptions caused by an error on the website in order to save a file with the information and try to repair the error with that info. "
   ]
  },
  {
   "cell_type": "code",
   "execution_count": null,
   "metadata": {},
   "outputs": [],
   "source": [
    "import json\n",
    "import sys\n",
    "import os\n",
    "import traceback\n",
    "from django.utils.deprecation import MiddlewareMixin\n",
    "from django.utils.timezone import now\n",
    "\n",
    "\n",
    "class ErrorLoggingMiddleware(MiddlewareMixin):\n",
    "    def process_exception(self, request, exception):\n",
    "        traceback_info = \"\".join(traceback.format_exception(*sys.exc_info()))\n",
    "        user_name = request.user.username if request.user.is_authenticated else \"Anonymous\"\n",
    "        error_data = {\n",
    "            \"timestamp\": now().isoformat(),\n",
    "            \"url\": request.path,\n",
    "            \"method\": request.method,\n",
    "            \"error\": str(exception),\n",
    "            \"traceback\": traceback_info,\n",
    "            \"user\": user_name,\n",
    "        }\n",
    "        file_path = f\"errors/{now().strftime('%Y-%m-%d_%H-%M-%S')}_{user_name}.log\"\n",
    "        try:\n",
    "            with open(file_path, \"w\") as f:\n",
    "                f.write(traceback_info)\n",
    "        except Exception as file_error:\n",
    "            print(f\"Failed to save traceback to file: {file_error}\")\n",
    "        json_data = json.dumps({\"Error\": error_data[\"error\"], \"Url\": error_data[\"url\"]})\n",
    "        data_loaded = json.loads(json_data)\n",
    "        print(f\"Data loaded: {data_loaded}\")\n",
    "        if \"delete_file\" in request.POST:\n",
    "            if os.path.exists(file_path):\n",
    "                os.remove(file_path)\n",
    "            "
   ]
  }
 ],
 "metadata": {
  "language_info": {
   "name": "python"
  }
 },
 "nbformat": 4,
 "nbformat_minor": 2
}
